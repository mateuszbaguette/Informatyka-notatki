{
  "nbformat": 4,
  "nbformat_minor": 0,
  "metadata": {
    "colab": {
      "provenance": []
    },
    "kernelspec": {
      "name": "python3",
      "display_name": "Python 3"
    },
    "language_info": {
      "name": "python"
    }
  },
  "cells": [
    {
      "cell_type": "markdown",
      "source": [
        "https://pl.wikipedia.org/wiki/Najd%C5%82u%C5%BCszy_wsp%C3%B3lny_podci%C4%85g\n"
      ],
      "metadata": {
        "id": "-MMRyFMKtNKp"
      }
    },
    {
      "cell_type": "code",
      "execution_count": null,
      "metadata": {
        "colab": {
          "base_uri": "https://localhost:8080/"
        },
        "id": "PJ-AXIYsV5O4",
        "outputId": "40f79845-910d-4494-bb04-4e141c45ccf9"
      },
      "outputs": [
        {
          "output_type": "stream",
          "name": "stdout",
          "text": [
            "OLEA\n"
          ]
        }
      ],
      "source": [
        "#kod z podrecznika\n",
        "A = \"POLITECHNIKA\"\n",
        "B = \"TOALETA\"\n",
        "NWP = []\n",
        "\n",
        "db = [[0 for b in range(len(B)+1)] for a in range(len(A)+1)]\n",
        "\n",
        "for i in range(len(A)):\n",
        "  prev_row = db[i]\n",
        "  curr_row = db[i+1]\n",
        "  a_char = A[i]\n",
        "  for j in range(len(B)):\n",
        "    b_char = B[j]\n",
        "    if a_char == b_char:\n",
        "      curr_row[j+1] = prev_row[j]+1\n",
        "      continue\n",
        "    curr_row[j+1] = max(curr_row[j], prev_row[j+1])\n",
        "\n",
        "i = len(A)\n",
        "j = len(B)\n",
        "\n",
        "while i > 0 and j > 0:\n",
        "   a_char = A[i-1]\n",
        "   b_char = B[j-1]\n",
        "   if a_char == b_char:\n",
        "      i -=1\n",
        "      j -=1\n",
        "      NWP.append(a_char)\n",
        "      continue\n",
        "   if db[i-1][j] > db[i][j-1]:\n",
        "      i -=1\n",
        "      continue\n",
        "   j -=1\n",
        "\n",
        "print (\"\".join([str(a) for a in NWP[::-1]]))"
      ]
    }
  ]
}