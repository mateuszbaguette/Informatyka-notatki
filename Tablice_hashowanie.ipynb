{
  "nbformat": 4,
  "nbformat_minor": 0,
  "metadata": {
    "colab": {
      "provenance": []
    },
    "kernelspec": {
      "name": "python3",
      "display_name": "Python 3"
    },
    "language_info": {
      "name": "python"
    }
  },
  "cells": [
    {
      "cell_type": "markdown",
      "source": [
        "# T: Tablice z haszowaniem"
      ],
      "metadata": {
        "id": "qDqDAzYDmUTH"
      }
    },
    {
      "cell_type": "markdown",
      "source": [
        "1. **Haszowanie** - proces, polegający na wykorzystaniu określonych obliczeń w celu wygenrowania danych wyjściowych o stałym rozmiarze z zestawu danych wejściowych o zmiennym rozmiarze.\n",
        "2. Do haszowania służą **funkcje mieszające** lub **funkcja skrótu**, wynik tej funkcji to **hasz** lub **cyfrowy odcisk palca**. <br>\n",
        "https://www.pelock.com/pl/produkty/hash-kalkulator\n",
        "3. **Funkcja skrótu, funkcja mieszająca lub funkcja haszująca**–funkcja   przyporządkowująca dowolnie dużej liczbie (dowolnych danych wejsciowych (ang. Input) o dowolnej wielkosci ) krótką wartość o stałym rozmiarze (ciag znakow o stalej dlugosci), tzw. skrót nieodwracalny.<br>\n",
        "Wartość ta jest najczęściej nazywana **haszem lub po prostu skrótem**. Czesto hasz nazywa sie cyfrowym odciskiem palca pliku. Inna definicja, mówi, ze haszowanie to mapowanie danych o dowolnej wielkosci na dane o okreslonej dtugosci.\n",
        "4. Haszowanie służy do budowania indeksu w złożonych typach danych, struktury takie gdzie wykorzystuje się funkcje skrótu nazywamy **tablicami z haszowaniem** lub **tablicami z mieszaniem**.Zadaniem funkcji haszujących jest wyliczenie pozycji/indeksu elementu w bazie.\n",
        "5. Przykład:<br>\n",
        "**h** - suma wartości a->1,b->2,...  modulo 13 <br>\n",
        "{adam, antek,ola,amanda,kuba,robert,anna} <br>\n",
        "h(adam)=(1+4+1+13) mod 13= 19 mod 13 =6 <br>\n",
        "h(antek)=(1+14+20+5+11) mod 13 = 51 mod 13 =12 <br>\n",
        "\n",
        "| wartość | imię |\n",
        "|---------|------|\n",
        "|0||\n",
        "|1||\n",
        "|2||\n",
        "|3||\n",
        "|4||\n",
        "|5||\n",
        "|6|adam|\n",
        "|7||\n",
        "|8||\n",
        "|9||\n",
        "|10||\n",
        "|11||\n",
        "|12|antek|\n",
        "\n",
        " Wyszukanie słowa w tablicy:<br>\n",
        " - wyliczamy wartość h(słowa) i sprawdzamy na pozycji TAB(h(słowo))\n",
        "\n",
        "6. **Kolizją** nazywamy sytuację, w której wartość funkcji haszującej obliczona dla więcej niż jednego elementu w zbiorze jest taka sama.\n",
        "7. Sposoby rozwiązywania kolizji:\n",
        "- **metoda łańcuchowa** - polega na tym, że klucze o takim samym adresie umieszcz się na jednej liście, którą wskauje numer klucza, czyli tablica list\n",
        "- **adresowanie otwarte** - elementy, których adresy się powtarzają, umieszczone są w innej, wolnej pozycji.Jeśli liczba prób będzie równa wymiarowi tablicy - wstawienie nowego nie jest możliwe\n",
        "- **haszowanie kukułcze** - stosuje się dwie tablice oraz odpowiadające im funkcje haszujące, gdy wystąpi kolizja - druga funkcja haszująca wskazuje miejsce w drugiej tablicy. Jeśli w drugiej wystepuje kolizja - usuwamy element z drugiej i rekurencyjnie podejmujemy wstawienie tego elementu do pierwszej.Proces powtarzamy tak długo, dopóki nie wystąpi kolejna kolizja - a gdy wystąpi wtedy losujemy kolejne metody haszowania,aż do skutku.\n",
        "8. **Współczynnik wypełnienia (ang. load factor)** - stosunek liczby elementów zapisanych w tablicy z haszowaniem do zdefiniowanego wymiaru tablicy. Prawdopodobieństwo wystąpienia kolizji wzrasta ze zbliżaniem współczynnika wypełnienia do wartości 1."
      ],
      "metadata": {
        "id": "5ko3sB04mqag"
      }
    },
    {
      "cell_type": "markdown",
      "source": [
        "https://mattomatti.com/pl/a0202?plang=py#elcode0"
      ],
      "metadata": {
        "id": "0dzWlaxYceJl"
      }
    },
    {
      "cell_type": "code",
      "source": [
        "N = 10\n",
        "\n",
        "def hashtel(telefon):\n",
        "\tglobal N\n",
        "\treturn telefon % N\n",
        "\n",
        "def wyszukaj(ksiazka, telefon):\n",
        "\tlista = ksiazka[hashtel(telefon)]\n",
        "\treturn telefon in lista\n",
        "\n",
        "def dodaj(ksiazka, telefon):\n",
        "\tif not wyszukaj(ksiazka, telefon):\n",
        "\t\tksiazka[hashtel(telefon)].append(telefon)\n",
        "\treturn ksiazka\n",
        "\n",
        "ksiazka = [[] for i in range(N)]\n",
        "\n",
        "ksiazka = dodaj(ksiazka, 123)\n",
        "ksiazka = dodaj(ksiazka, 673)\n",
        "ksiazka = dodaj(ksiazka, 456)\n",
        "ksiazka = dodaj(ksiazka, 987)\n",
        "\n",
        "for i in range(N):\n",
        "\tprint(\"[\" + str(i) + \"]\\t\", end ='')\n",
        "\tfor el in ksiazka[i]:\n",
        "\t\tprint(el, end =' ')\n",
        "\tprint()\n",
        "\n",
        "szukaj = [333, 901, 456]\n",
        "for el in szukaj:\n",
        "\twynik = wyszukaj(ksiazka, el)\n",
        "\tprint(str(el) + \"\\t\" + (\"jest\" if wynik else \"nie ma\"));"
      ],
      "metadata": {
        "colab": {
          "base_uri": "https://localhost:8080/"
        },
        "id": "oQO4KqYncfa3",
        "outputId": "e1337def-6406-4ae1-eac7-5743c123166a"
      },
      "execution_count": null,
      "outputs": [
        {
          "output_type": "stream",
          "name": "stdout",
          "text": [
            "[0]\t\n",
            "[1]\t\n",
            "[2]\t\n",
            "[3]\t123 673 \n",
            "[4]\t\n",
            "[5]\t\n",
            "[6]\t456 \n",
            "[7]\t987 \n",
            "[8]\t\n",
            "[9]\t\n",
            "333\tnie ma\n",
            "901\tnie ma\n",
            "456\tjest\n"
          ]
        }
      ]
    },
    {
      "cell_type": "markdown",
      "source": [
        "https://inf.ug.edu.pl/~pmp/Z/ASDwykladP/haszowanieOP20L.pdf<br>\n",
        "http://pbeling.w8.pl/algorithms/hash_tables.pdf<br>\n",
        "https://eduinf.waw.pl/inf/alg/001_search/0067e.php<br>\n"
      ],
      "metadata": {
        "id": "P1LMpz4KkCOk"
      }
    }
  ]
}