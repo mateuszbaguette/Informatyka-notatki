{
  "cells": [
    {
      "cell_type": "markdown",
      "id": "0099dab8-8f7f-4d31-860f-f6fc8b76644a",
      "metadata": {
        "id": "0099dab8-8f7f-4d31-860f-f6fc8b76644a"
      },
      "source": [
        "# T3: Python - funkcje rekurencyjne i struktury danych:listy, krotki, słowniki i zbiory"
      ]
    },
    {
      "cell_type": "markdown",
      "source": [
        "## I. Rekurencja"
      ],
      "metadata": {
        "id": "F5gG92z8lpwW"
      },
      "id": "F5gG92z8lpwW"
    },
    {
      "cell_type": "markdown",
      "id": "c2195677-79e5-4f58-a9f3-b9e9c997d512",
      "metadata": {
        "id": "c2195677-79e5-4f58-a9f3-b9e9c997d512"
      },
      "source": [
        "1. Funkcja rekurencja to taka, która wywołuje samą siebie.\n",
        "Przykład rekurencyjnego ciągu liczbowego - podano jego definicję\n",
        "rekurencyjną oraz funkcję rekurencyjną obliczającą n-ty wyraz tego ciągu.\n",
        "\n",
        "|Definicja/konstrukcja języka | Opis|\n",
        "|-----------------------------|-----|\n",
        "|$ a_1=1 $ | definicja rekurencyjna ciągu liczbowego|\n",
        "|$ a_2=5 $ | (1; 5; 4; -1; -5; -4; 1; 5...)|\n",
        "|$ a_n=a_{n-1} - a_{n-2} $ dla $n>2$||\n",
        "| **def funkcja(n):** | funkcja rekurencyjna w języku Python|\n",
        "| &emsp;**if n == 1:** |wyznaczająca n-ty wyraz podanego|\n",
        "| &emsp;&emsp;**return 1** |ciągu liczbowego,|\n",
        "| &emsp;**if n == 2:**| wynik: -4|\n",
        "|&emsp;&emsp;**return 5** | |\n",
        "|&emsp;**return funkcja(n - 1) - funkcja(n - 2)**||\n",
        "|**print(funkcja(6))**||\n",
        "\n"
      ]
    },
    {
      "cell_type": "code",
      "execution_count": null,
      "id": "de0dadda-b4d5-4aa2-98b6-f6d2dcb78fd7",
      "metadata": {
        "id": "de0dadda-b4d5-4aa2-98b6-f6d2dcb78fd7"
      },
      "outputs": [],
      "source": [
        "def zad_a(n):\n",
        "    if n == 1:\n",
        "        return 3\n",
        "    return zad_a(n - 1) + 3 \n",
        "\n",
        "def zad_b(n):\n",
        "    if n == 1:\n",
        "        return -2\n",
        "    return zad_b(n - 1) * -2\n",
        "\n",
        "def zad_c(n):\n",
        "    if n == 1:\n",
        "        return 8\n",
        "    return zad_c(n - 1) / -2 \n",
        "\n",
        "def zad_d(n):\n",
        "    if n == 1: return 2\n",
        "    if n == 2: return 6\n",
        "    return zad_d(n - 2) + 1 \n",
        "\n",
        "def zad_e(n):\n",
        "    if n == 1: return -1\n",
        "    if n == 2: return 4\n",
        "    if n == 3: return -4\n",
        "    return zad_e(n - 2) * zad_e(n - 1)\n",
        "\n",
        "def zad_f(n):\n",
        "    if n == 1: return 1\n",
        "    if n == 2: return 2\n",
        "    if n == 3: return -4\n",
        "    return zad_f(n - 3) + zad_f(n - 1) \n",
        "\n",
        "print(zad_a(5))\n",
        "print(zad_b(6))\n",
        "print(zad_c(6))\n",
        "print(zad_d(7))\n",
        "print(zad_e(6))\n",
        "print(zad_f(6))\n"
      ]
    },
    {
      "cell_type": "markdown",
      "source": [
        "## II. Struktury danych w Pythonie:"
      ],
      "metadata": {
        "id": "vnc_XXvgltQR"
      },
      "id": "vnc_XXvgltQR"
    },
    {
      "cell_type": "markdown",
      "source": [
        "1. Pod pojęciem **struktury danych** rozumie się sposób przechowywania danych w komputerze, innymi słowy - struktura danych jest zaimplementowaną realizacją danych w komputerze.\n",
        "2. Jedną z wążniejszych klasyfikacji struktur danych jest podział na **struktury statyczne i dynamiczne**. \n",
        "3. **Statyczne struktury danych** - **stałe** i **zmienne globalne** programu, a także **statyczne zmienne, rekordy, listy** i **tablice**.<br> \n",
        " Najważniejsze cechy statycznych struktur danych:<br>\n",
        "- statyczne struktury danych powinny być zadeklarowane przed rozpoczęciem programu,\n",
        "- ich rozmiar jest z góry ustalony i nie można go zmienić podczas działania programu, co oznacza konieczność przypisania pamięci o odpowiednim rozmiarze podczas deklarowania zmiennych,\n",
        "- pamięć jest przydzielana przed rozpoczęciem, a zwalniana po zakończeniu programu (podprogramu).\n",
        "4. **Dynamiczne struktury danych** mają następujące właściwości: \n",
        "- dostęp do danych odbywa się za pośrednictwem wskaźników (a nie bezpośrednio, jak w przypadku struktur statycznych),\n",
        "- ich rozmiar (ilość potrzebnej pamięci) nie musi być znany przed wykonaniem programu,\n",
        "- pamięć jest przydzielana dynamicznie w czasie wykonywania odpowiedniego bloku programu,\n",
        "- istnieją aż do chwili usunięcia (zwolnienia pamięci).\n",
        "- błędy w przydzielaniu i zwalnianiu obszarów pamięci skutkują błędami w wykonywaniu programu.\n",
        "5. Struktury danych, jakie mamy do dyspozycji w standardowej bibliotece Pythona: \n",
        "- listy,\n",
        "- krotki,\n",
        "- słowniki,\n",
        "- zbiory.\n",
        "6. Wg innej klasyfikacji w Pythonie typy sekwencyjne - to typy danych które umożliwiają zapisywanie wielu wartości w jednej zmiennej,wyróżniamy:\n",
        "- **sekwencje zmienne**, którym można zmieniać wartości - **listy**,\n",
        "- **sekwencje niezmienne**, których wartości nie można zmieniać - **krotki** i **napisy**."
      ],
      "metadata": {
        "id": "L8snRo6sfwzo"
      },
      "id": "L8snRo6sfwzo"
    },
    {
      "cell_type": "markdown",
      "source": [
        "## Listy"
      ],
      "metadata": {
        "id": "C3CJd72fl84l"
      },
      "id": "C3CJd72fl84l"
    },
    {
      "cell_type": "markdown",
      "source": [
        "1. **Listy (ang. list)** są **dynamiczną strukturą danych** - oznacza to, że już po utworzeniu **listy** można ją zmniejszyć lub powiększyć (zwolnić lub przydzielić pamięć):\n",
        "- **lista to typ sekwencyjny zmienny**, a więc możliwe jest przypisywanie wartości pojedynczym elementom tego typu, \n",
        "- lista może służyć do przechowywania obiektów dowolnego typu,\n",
        "- do zapisywania listy wykorzystujemy nawiasy kwadratowe,a poszczególne elementy rozdzielamy przecinkami, \n",
        "- w jednej liście można grupować obiekty należące do różnych typów,\n",
        "- można też zadeklarować pustą listę."
      ],
      "metadata": {
        "id": "lmJhObdol7Tc"
      },
      "id": "lmJhObdol7Tc"
    },
    {
      "cell_type": "code",
      "source": [
        "# Listę w Pythonie deklaruje się za pomocą nawiasu kwadratowego [ ]. \n",
        "# Zawartość listy można wypisać na różne sposoby, na przykład za pomocą funkcji\n",
        "# print() lub w pętli.\n",
        "\n",
        "# Pusta lista\n",
        "pusta_lista = []\n",
        "print(pusta_lista)\n",
        "\n",
        "for element in pusta_lista:\n",
        "  print(element)"
      ],
      "metadata": {
        "id": "nh5lXgB2kRsw"
      },
      "id": "nh5lXgB2kRsw",
      "execution_count": null,
      "outputs": []
    },
    {
      "cell_type": "code",
      "source": [
        "# Lista liczb\n",
        "lista_liczb = [1, 2, 3]\n",
        "print(lista_liczb)\n",
        "\n",
        "for element in lista_liczb:\n",
        "  print(element)"
      ],
      "metadata": {
        "id": "5oGYSqW4lKc6"
      },
      "id": "5oGYSqW4lKc6",
      "execution_count": null,
      "outputs": []
    },
    {
      "cell_type": "code",
      "source": [
        "# Lista elementów zmieszanych\n",
        "\n",
        "lista_elementow_zmieszanych = [1, \"To jest napis\", 3.4, False]\n",
        "print(lista_elementow_zmieszanych)\n",
        "\n",
        "for element in lista_elementow_zmieszanych:\n",
        "  print(element)"
      ],
      "metadata": {
        "id": "3irRAGmKlb0v"
      },
      "id": "3irRAGmKlb0v",
      "execution_count": null,
      "outputs": []
    },
    {
      "cell_type": "markdown",
      "source": [
        " 2. **Lista** zapewnia możliwość uzyskiwania dostępu do poszczególnych jej elementów. Aby odwołać się do konkretnego elementu listy, należy wskazać jego indeks, przez wypisanie go w nawiasie kwadratowym **[ ]** zaraz po nazwie listy:\n",
        "- ideksowanie elementów **list** rozpoczyna się od **0**,\n",
        "- pierwszy element ma **indeks 0**, drugi **1**, a trzeci **2**,\n",
        "- **indeksowanie liczbami ujemnymi** - polega na tym,że ostatni element listy \n",
        "będzie miał indeks -1, przedostatni -2, itd. "
      ],
      "metadata": {
        "id": "tXvZZUxacifV"
      },
      "id": "tXvZZUxacifV"
    },
    {
      "cell_type": "code",
      "source": [
        "lista_elementow_zmieszanych = [1, \"To jest napis\", 3.4, False]\n",
        "print(lista_elementow_zmieszanych[1])\n",
        "print(lista_elementow_zmieszanych[0])\n",
        "print(lista_elementow_zmieszanych[-1])\n",
        "print(lista_elementow_zmieszanych[:2])\n",
        "print(lista_elementow_zmieszanych[2:3])\n",
        "print(lista_elementow_zmieszanych[3])"
      ],
      "metadata": {
        "id": "D7jrVRS9d7fU"
      },
      "id": "D7jrVRS9d7fU",
      "execution_count": null,
      "outputs": []
    },
    {
      "cell_type": "markdown",
      "source": [
        "3. Inne możliwe przykłady uzyskiwania dostępu do elementów z listy za pomocą znaku **:** \n",
        "- **[: : -1]** — odostatniego elementu do pierwszego,\n",
        "- **[: -1]** — od pierwszego do przedostatniego,\n",
        "- **[:]** — wszystkie elementy,\n",
        "- **[: : 2]** — co drugi element listy.\n",
        "4. Do pracy z listami przydają się jeszcze operatory **in** i **not in** - dzięki nim nie trzeba uzyskiwać dostępu do konkretnego elementu przez mozolne sprawdzanie listy element po elemencie za pomocą pętli **for**. Wystarczy napisać instrukcję warunkową z użyciem jednego z tych dwóch operatorów."
      ],
      "metadata": {
        "id": "JJ0EfgjqiHQK"
      },
      "id": "JJ0EfgjqiHQK"
    },
    {
      "cell_type": "code",
      "source": [
        "# Przykład - zadeklarowano w nim listę imion. Zobacz, jak wygląda instrukcja warunkowa\n",
        "# sprawdzająca, czy dany element znajduje się na liście.\n",
        " \n",
        "lista_startowa = [\"Kary\", \"Gniady\", \"Siwa\", \"Kasztanka\", \"Tarant\", \"Srokata\", \"Izabelowaty\"]\n",
        "\n",
        "# in\n",
        "if \"Gniady\" in lista_startowa:\n",
        "  print(\"Gniady jest wpisany\")\n",
        "else:\n",
        "  print(\"Gniady nie jest wpisany na listę\")\n",
        "\n",
        "if \"Kary\" in lista_startowa:\n",
        "  print(\"Kary jest wpisany\")\n",
        "else:\n",
        "  print(\"Kary nie jest wpisany na listę\")\n",
        "\n",
        "# not in \n",
        "if \"Izabelowaty\" not in lista_startowa:\n",
        "  print(\"Izabelowaty nie jest wpisany na listę\")\n",
        "else:\n",
        "  print(\"Izabelowaty jest wpisany\")\n",
        "\n",
        "if \"Myszaty\" not in lista_startowa:\n",
        "  print(\"Myszaty nie jest wpisany na listę\")\n",
        "else:\n",
        "  print(\"Myszaty jest wpisany\")"
      ],
      "metadata": {
        "id": "leFHQWAqkMAU"
      },
      "id": "leFHQWAqkMAU",
      "execution_count": null,
      "outputs": []
    },
    {
      "cell_type": "markdown",
      "source": [
        "5. Operacje i funkcje na listach:  \n",
        "- funkcja **len()** przyjmuje jeden parametr — sprawdzaną **listę** — i zwraca informację o liczbie elementów na tej liście."
      ],
      "metadata": {
        "id": "5ENMvNfDjzO4"
      },
      "id": "5ENMvNfDjzO4"
    },
    {
      "cell_type": "code",
      "source": [
        "lista_kwiaty = [\"aksamitka\", \"bratek\", \"cynia\", \"dalia\", \"epimediun\",\n",
        "\"frezja\", \"gazania\"]\n",
        "print(len(lista_kwiaty))"
      ],
      "metadata": {
        "id": "gU7JSI9GnDdh"
      },
      "id": "gU7JSI9GnDdh",
      "execution_count": null,
      "outputs": []
    },
    {
      "cell_type": "markdown",
      "source": [
        "- funkcje **max()** i **min()** służą do sprawdzania, odpowiednio, największego i najmniejszego elementu z listy. Jeśli na liście znajdą się ciągi znaków (tak jak na naszej przykładowej, funkcje te posłużą się kolejnością alfabetyczną: **max()** wyszuka element ostatni w kolejności alfabetycznej, a **min()** — pierwszy."
      ],
      "metadata": {
        "id": "OkmtMjfanI-H"
      },
      "id": "OkmtMjfanI-H"
    },
    {
      "cell_type": "code",
      "source": [
        "lista_kwiaty = [\"aksamitka\", \"bratek\", \"cynia\", \"dalia\", \"epimedium\",\n",
        "\"frezja\", \"gazania\"]\n",
        "\n",
        "print(min(lista_kwiaty))\n",
        "print(max(lista_kwiaty))"
      ],
      "metadata": {
        "id": "ZuIlmqnxnmV9"
      },
      "id": "ZuIlmqnxnmV9",
      "execution_count": null,
      "outputs": []
    },
    {
      "cell_type": "markdown",
      "source": [
        "- metoda **append()** przyjmuje w parametrze element, który dołącza na końcu listy:"
      ],
      "metadata": {
        "id": "hdXkaAvJntWd"
      },
      "id": "hdXkaAvJntWd"
    },
    {
      "cell_type": "code",
      "source": [
        "lista_kwiaty = [\"aksamitka\", \"bratek\", \"cynia\", \"dalia\", \"epimedium\",\n",
        "\"frezja\", \"gazania\"]\n",
        "\n",
        "lista_kwiaty.append(\"hiacynt\")\n",
        "print(lista_kwiaty)"
      ],
      "metadata": {
        "id": "Dt2ZmCUhn1xl"
      },
      "id": "Dt2ZmCUhn1xl",
      "execution_count": null,
      "outputs": []
    },
    {
      "cell_type": "markdown",
      "source": [
        "- funkcja **extend()** działa bardzo podobnie jak funkcja **append()**, służy do dodawania elementów na koniec **listy**, ale jako parametr przyjmuje nie pojedynczy element,lecz ich listę.  \n"
      ],
      "metadata": {
        "id": "MCsSMj4NonUC"
      },
      "id": "MCsSMj4NonUC"
    },
    {
      "cell_type": "code",
      "source": [
        "lista_kwiaty = [\"aksamitka\", \"bratek\",\"frezja\",\"gazania\"]\n",
        "lista=[\"cynia\", \"dalia\", \"epimedium\"]\n",
        "\n",
        "lista_kwiaty.extend(lista)\n",
        "print(lista_kwiaty)\n",
        "\n",
        "lista_kwiaty.extend(\"hiacynt\") # ciąg znaków został ppotraktowany jako lista \n",
        "# pojedynczych metod\n",
        "print(lista_kwiaty)"
      ],
      "metadata": {
        "id": "oCwPq-XnpJi7"
      },
      "id": "oCwPq-XnpJi7",
      "execution_count": null,
      "outputs": []
    },
    {
      "cell_type": "markdown",
      "source": [
        "- funkcja **count()** zlicza, ile razy dany element występuje na liście"
      ],
      "metadata": {
        "id": "PisxhGY2pDDV"
      },
      "id": "PisxhGY2pDDV"
    },
    {
      "cell_type": "code",
      "source": [
        "lista_kwiaty = [\"aksamitka\", \"bratek\",\"frezja\",\"gazania\"]\n",
        "print(lista_kwiaty.count(\"bratek\"))"
      ],
      "metadata": {
        "id": "DHs2JxWqqZrT"
      },
      "id": "DHs2JxWqqZrT",
      "execution_count": null,
      "outputs": []
    },
    {
      "cell_type": "markdown",
      "source": [
        "- funkcja **index()** jako parametr przyjmuje element listy i w wyniku zwraca indeks, pod którym element ten się znajduje\n",
        "\n"
      ],
      "metadata": {
        "id": "3qyTh-p4qkDY"
      },
      "id": "3qyTh-p4qkDY"
    },
    {
      "cell_type": "code",
      "source": [
        "lista_kwiaty = [\"aksamitka\", \"bratek\",\"frezja\",\"gazania\"]\n",
        "print(lista_kwiaty.index(\"bratek\"))"
      ],
      "metadata": {
        "id": "uLhsM5JfrEEa"
      },
      "id": "uLhsM5JfrEEa",
      "execution_count": null,
      "outputs": []
    },
    {
      "cell_type": "markdown",
      "source": [
        "- funkcja **pop()**,która jako parametr przyjmuje indeks elementu i usuwa\n",
        "z listy ten element"
      ],
      "metadata": {
        "id": "lhwMFaZFq_KN"
      },
      "id": "lhwMFaZFq_KN"
    },
    {
      "cell_type": "code",
      "source": [
        "lista_kwiaty = [\"aksamitka\", \"bratek\", \"cynia\", \"dalia\", \"epimedium\",\n",
        "\"frezja\", \"gazania\"]\n",
        "print(lista_kwiaty)\n",
        "lista_kwiaty.pop(2)\n",
        "print(lista_kwiaty)"
      ],
      "metadata": {
        "id": "b4nrk9pfrXu2"
      },
      "id": "b4nrk9pfrXu2",
      "execution_count": null,
      "outputs": []
    },
    {
      "cell_type": "markdown",
      "source": [
        "- funkcja **remove()**,służy do usuwania elementów z listy - jako parametr \n",
        "przyjmuje element listy, wyszukuje go, usuwa z listy i kończy zadanie. Jeśli na liście znajdzie się więcej takich samych elementów, usunięty zostanie tylko pierwszy z nich"
      ],
      "metadata": {
        "id": "y56uEhuBr9hm"
      },
      "id": "y56uEhuBr9hm"
    },
    {
      "cell_type": "markdown",
      "id": "021ebb13-01f6-45cc-a574-09fbfef6a6b9",
      "metadata": {
        "id": "021ebb13-01f6-45cc-a574-09fbfef6a6b9"
      },
      "source": [
        "\n",
        "6. Tabela przykładów przetwarzania list:\n",
        "\n",
        "| Konstrukcja języka | Opis|\n",
        "|--------------------|-----| \n",
        "|**lista1 = [0 for row in range(n)]** |deklaracja listy jednowymiarowej **lista1**|\n",
        "|**lista2 = [[0 for col in range(n)]**|i listy dwuwymiarowej **lista2**,|\n",
        "|&emsp;**for row in range(m)]** |przypisanie elementom list wartości początkowych 0|\n",
        "|**lista = [1.0, 2, \"trzy\", 4.0, 5]** |przypisanie wartości zmiennej **lista**|\n",
        "|**lista[0]** |odwołanie do pierwszego elementu listy (1.0),|\n",
        "|**lista[-1]**| odwołanie do ostatniego elementu listy (5),|\n",
        "|**lista[-2]**|odwołanie do przedostatniego elementu listy (4.0)|\n",
        "|**lista[2:]**| od elementu **lista[2]**,|\n",
        "||wynik: ['trzy', 4.0, 5]|\n",
        "|**lista[1::2]**| co drugi element od elementu **lista[1]**,|\n",
        "||wynik: [2, 4.0]|\n",
        "|**lista[0:4:2]** |od elementu **lista[0]** do elementu\n",
        "||**lista[3]** co drugi,|\n",
        "||wynik: [1.0, 'trzy']|\n",
        "|<b>lista *= 2 </b> | wynik: [1.0, 2, 'trzy', 4.0, 5, 1.0, 2, 'trzy',\n",
        "||4.0, 5]|\n",
        "|**lista = lista[:2]** |skracanie listy,|\n",
        "||wynik: [1.0, 2]|\n",
        "|**len(lista)**| długość listy (liczba elementów),|\n",
        "||wynik: 5|\n",
        "|**lista[1] = 6**| przypisanie elementowi **lista[1]**|\n",
        "||wartości 6,|\n",
        "||instrukcja przypisania (elementom listy|\n",
        "||można przypisywać wartości),|\n",
        "|| wynik: [1.0, 6, 'trzy', 4.0, 5]\n",
        "|**lista[0] += 7** | element **lista[0]** zwiększony o 7, |\n",
        "||wynik: [8.0, 2, 'trzy', 4.0, 5]|\n",
        "|**del lista[2]**| usunięcie elementu **lista[2]** z listy, |\n",
        "||wynik: [1.0, 2, 4.0, 5] |\n",
        "|**== != < >**  |relacje na listach (listy można |\n",
        "||porównywać) |\n",
        "|**1 in lista** |sprawdzanie, czy na liście są określone |\n",
        "|**2 not in lista**| wartości |\n",
        "|**lista[i], lista[k] = lista[k], lista[i]**| zamiana elementów listy |\n",
        "|**for indeks, wartosc in enumerate(lista):**| wypisanie kolejnych elementów listy: |\n",
        "|**&emsp;print(indeks, \"=\", wartosc)**| indeksów i wartości |\n",
        "\n",
        "7. Indeksowanie list - ujęcie tabelaryczne\n",
        "\n",
        "| Konstrukcja języka | Wynik|\n",
        "|--------------------|------|\n",
        "|**lista = [9, 2, 3, 4, 5, 6, 7, 8, 1, 10]**|\n",
        "|**lista[2:]** |[3, 4, 5,6, 7,8, 1, 10]|\n",
        "|**lista[3::2]**| [4, 6, 8, 10]|\n",
        "|**lista[::-1]**|[10, 1,8, 7, 6,5, 4, 3, 2,9]|\n",
        "|**lista[::-2]**| [10, 8, 6, 4, 2] |\n",
        "|**lista[::3]** |[9, 4, 7, 10] |\n",
        "|**lista[:4:-2]**| [10, 8, 6]|\n",
        "|**lista[:4:2]**| [9, 3]|\n",
        "|**lista[0:5:2]**| [9, 3, 5]|\n",
        "|**lista[3:9:2]**| [4, 6,8]|\n",
        "\n",
        "8. Metody do przetwarzania list - ujęcie tabelaryczne\n",
        "\n",
        "| Konstrukcja języka | Opis|\n",
        "|--------------------|-----|\n",
        "|<b>lista = [9, 2, 3, 4, 5, 6, 7, 8, 1, 10]</b>|\n",
        "|**lista.append(11)** |dołączanie elementu do listy,|\n",
        "||wynik: [9, 2, 3, 4, 5,6, 7,8, 1, 10,11]|\n",
        "|**lista.extend([12, 13])**| dołączanie listy [12, 13] do listy [9, 2, 3, 4, 5, 6, 7,8, 1, 10],|\n",
        "||wynik: |9, 2, 3, 4, 5,6, 7,8, 1, 10, 12, 13]|\n",
        "|**lista.count(9)**| obliczanie, ile razy podana wartość 9 występuje na liście,|\n",
        "||wynik: 1|\n",
        "|**lista.index(8)**| wyznaczanie pozycji (licząc od 0) pierwszego wystąpienia|\n",
        "||podanej wartości 8,|\n",
        "||wynik: 7|\n",
        "|**lista = [9, 2, 3, 4, 5, 6, 7, 8, 1, 10]**|\n",
        "|**lista.insert(3, 33)**| wstawianie liczby 33 do listy na podaną pozycję 3,|\n",
        "||wynik: [9, 2, 3, 33, 4, 5, 6, 7,8, 1, 10]|\n",
        "|**lista.pop(4)**| zwracanie wartości z podanej pozycji 4 i usunięcie tego|\n",
        "||elementu z listy,|\n",
        "||wynik: [9, 2, 3, 4,6, 7,8, 1, 10]|\n",
        "|**lista. remove(2)**| usunięcie z listy pierwszej znalezionej wartości 2,|\n",
        "||wynik: [9, 3, 4, 5, 6, 7,8, 1, 10]|\n",
        "|**lista.reverse()**| odwracanie kolejności elementów listy,|\n",
        "||wynik: [10, 1,8, 7,6, 5, 4, 3, 2,9]|\n",
        "|**lista.sort()**| niemalejące porządkowanie listy,|\n",
        "||wynik: [1, 2, 3, 4, 5, 6, 7,8,9, 10]|\n",
        "\n",
        "link do kursu:<br>\n",
        "https://www.programiz.com/python-programming/list"
      ]
    },
    {
      "cell_type": "markdown",
      "source": [
        "## Krotki"
      ],
      "metadata": {
        "id": "mTTqHHwuy4WJ"
      },
      "id": "mTTqHHwuy4WJ"
    },
    {
      "cell_type": "markdown",
      "source": [
        "1. **Krotka (ang. tuple)** jest strukturą danych charakterystyczną dla języka Python,umożliwia grupowanie wielu elementów dowolnego typu. Elementy te\n",
        "są indeksowane i również w przypadku krotek istnieją indeksy ujemne. Elementy w krotkach można przeliczać i przeszukiwać. Między krotką a listą istnieją jednak znaczące **różnice**. Najważniejsza polega na tym, że po <font color=\"red\" ><b>utworzeniu krotki nie można modyfikować jej zawartości — podczas działania aplikacji pozostaje ona niezmienna - jest to zatem statyczna struktura danych</b></font>.\n",
        "2. Tworzenie krotki - po znaku równości wypisuje się elementy rozdzielone znakami przecinka w nawiasie okrągłym.\n"
      ],
      "metadata": {
        "id": "88TcLfGyywWL"
      },
      "id": "88TcLfGyywWL"
    },
    {
      "cell_type": "code",
      "source": [
        "mojakrotka = (1, 3.14, True, \"bergamotka\")\n",
        "\n",
        "print (mojakrotka)\n",
        "print (mojakrotka[2])"
      ],
      "metadata": {
        "id": "IIE09oL00kP3"
      },
      "id": "IIE09oL00kP3",
      "execution_count": null,
      "outputs": []
    },
    {
      "cell_type": "markdown",
      "source": [
        "- próba modyfikacji zawartości krotki"
      ],
      "metadata": {
        "id": "hdHUGSVA0zox"
      },
      "id": "hdHUGSVA0zox"
    },
    {
      "cell_type": "code",
      "source": [
        "mojakrotka[2] = False # powoduje wyświetlenie komunikatu o błędzie"
      ],
      "metadata": {
        "id": "r8_3Xuaq0rBh"
      },
      "id": "r8_3Xuaq0rBh",
      "execution_count": null,
      "outputs": []
    },
    {
      "cell_type": "markdown",
      "source": [
        "\n",
        "3. Tabela przykładów przetwarzania **krotek**:\n",
        "\n",
        "| Konstrukcja języka | Opis|\n",
        "|--------------------|-----|\n",
        "|**krotka = (1, 2, 3)**|przypisanie wartości zmiennej **krotka**|\n",
        "|**krotka = 1, 2, 3**||\n",
        "|**krotka1 = (1.6, 2, \"trzy\", 4.60, 5)**| przypisanie wartości zmiennej **krotka1**|\n",
        "|<b>krotka *= 2</b> |wynik: (1, 2, 3, 1, 2, 3)|\n",
        "|**~~krotka[i] = 6~~** |**brak możliwości przypisywania wartości**|\n",
        "||**elementom krotki**|\n",
        "|**len(krotka)** |długość krotki (liczba elementów),|\n",
        "||wynik: 3|\n",
        "\n",
        "4. Indeksowanie krotek - ujęcie tabelaryczne\n",
        "\n",
        "| Konstrukcja języka | Wynik|\n",
        "|--------------------|------|\n",
        "|**krotka = (0, 1, 2, 3, 4, 5, 6, 7, 8, 9, 10)**|\n",
        "|**krotka**| (0, 1, 2, 3, 4, 5, 6, 7, 8, 9, 10)|\n",
        "|**krotka[3:]** |(3, 4,5, 6, 7, 8,9, 10)|\n",
        "|**krotka[2::3]**| (2,5,8)|\n",
        "|**krotka[::-1]** | (10,9,8,7,6,5,4,3,2,1,0)|\n",
        "|**krotkal[::-2]**  |(10,8,6,4,2,0)|\n",
        "|**krotka[::2]**|(0,2,4,6,8,10)|\n",
        "|**krotka[:4:-2]** | (10,8,6)|\n",
        "|**krotka [:3:2]**| (0,2)|\n",
        "|**krotka[0:3:2]**| (0,2)|\n",
        "|**krotka[3:9:3]**| (3,6)|\n",
        "\n",
        "5. Krotki okazują się **przydatne**, gdy nie przewidujemy potrzeby modyfikacji elementów zawartych w strukturze ani nie będziemy chcieli ich usuwać lub dodawać:\n",
        "- **przydają się zawsze wtedy, kiedy chcemy mieć pewność, że zmienna nie zostanie zmodyfikowana**,\n",
        "- można ich też używać do **przekazywania parametrów do funkcji** albo do zapisywania zwracany wyników,\n",
        "- ich zaletą jest również to, że **podczas obliczeń są znacznie szybsze od list**,\n",
        "- duża część funkcji służących do pracy z listami, nie może być wykorzystywana do operaji na krotkach.\n",
        "\n",
        "link do kursu:<br>\n",
        "https://www.programiz.com/python-programming/tuple"
      ],
      "metadata": {
        "id": "xIlobQpS1PkB"
      },
      "id": "xIlobQpS1PkB"
    },
    {
      "cell_type": "code",
      "execution_count": null,
      "id": "dba3790b-fdb4-4b38-9058-2ed1ae124346",
      "metadata": {
        "id": "dba3790b-fdb4-4b38-9058-2ed1ae124346"
      },
      "outputs": [],
      "source": [
        "def zad_a(T):\n",
        "    n = len(T)\n",
        "    s = 0\n",
        "    for i in range(n):\n",
        "        s += T[i]\n",
        "    return s    \n",
        "\n",
        "def zad_b(T):\n",
        "    n = len(T)\n",
        "    s = 1\n",
        "    for i in range(n):\n",
        "        if T[i] < 6:\n",
        "            s *= T[i]\n",
        "    return s    \n",
        "\n",
        "def zad_c(T):\n",
        "    n = len(T)\n",
        "    s = 0\n",
        "    for i in range(n):\n",
        "        if i % 5 != 0:\n",
        "            s += 1\n",
        "    return s\n",
        "\n",
        "def zad_d(T):\n",
        "    for i in range(3, 8, 2):\n",
        "        T[i] = 0\n",
        "    return T  \n",
        "\n",
        "print(\"zad_a (lista) = \", zad_a([3, 4, 5, 5, 7, 9, 4, 2, 1]))\n",
        "print(\"zad_b (lista) = \", zad_b([3, 4, 5, 5, 7, 9, 4, 2, 1]))\n",
        "print(\"zad_c (lista) = \", zad_c([3, 4, 5, 5, 7, 9, 4, 2, 1]))\n",
        "print(\"zad_d (lista) = \", zad_d([3, 4, 5, 5, 7, 9, 4, 2, 1]))\n",
        "\n",
        "print(\"zad_a (krotka) = \", zad_a((3, 4, 5, 5, 7, 9, 4, 2, 1)))\n",
        "print(\"zad_b (krotka) = \", zad_b((3, 4, 5, 5, 7, 9, 4, 2, 1)))\n",
        "print(\"zad_c (krotka) = \", zad_c((3, 4, 5, 5, 7, 9, 4, 2, 1)))\n"
      ]
    },
    {
      "cell_type": "code",
      "execution_count": null,
      "id": "36070a8d-6902-458a-b4e2-4f0a2dc32987",
      "metadata": {
        "id": "36070a8d-6902-458a-b4e2-4f0a2dc32987"
      },
      "outputs": [],
      "source": [
        "def zad_a(T):\n",
        "    s = 0\n",
        "    for k in T:\n",
        "        s += k\n",
        "    return s    \n",
        "\n",
        "def zad_b(T):\n",
        "    s = 1\n",
        "    for k in T:\n",
        "        if k < 6:\n",
        "            s *= k\n",
        "    return s    \n",
        "\n",
        "print(\"zad_a (lista) = \", zad_a([3, 4, 5, 5, 7, 9, 4, 2, 1]))\n",
        "print(\"zad_b (lista) = \", zad_b([3, 4, 5, 5, 7, 9, 4, 2, 1]))\n",
        "\n",
        "print(\"zad_a (krotka) = \", zad_a((3, 4, 5, 5, 7, 9, 4, 2, 1)))\n",
        "print(\"zad_b (krotka) = \", zad_b((3, 4, 5, 5, 7, 9, 4, 2, 1)))\n",
        "\n"
      ]
    },
    {
      "cell_type": "code",
      "execution_count": null,
      "id": "22df18a5-043a-4470-877e-4b2081410a43",
      "metadata": {
        "id": "22df18a5-043a-4470-877e-4b2081410a43"
      },
      "outputs": [],
      "source": [
        "def zad_a(T):\n",
        "    n = len(T)\n",
        "    for i in range(n):\n",
        "        if T[i] != 2:\n",
        "            return True\n",
        "    return False    \n",
        "\n",
        "def zad_b(T):\n",
        "    n = len(T)\n",
        "    for i in range(n):\n",
        "        if T[i] < 0:\n",
        "            return False\n",
        "    return True\n",
        "\n",
        "def zad_c(T):\n",
        "    n = len(T)\n",
        "    for i in range(n):\n",
        "        if T[i] < 5 or T[i] > 8:\n",
        "            return True\n",
        "    return False \n",
        "\n",
        "def zad_d(T):\n",
        "    n = len(T)\n",
        "    for i in range(n):\n",
        "        if T[i] <= 11:\n",
        "            return False\n",
        "    return True \n",
        "\n",
        "def zad_e(T, k):\n",
        "    n = len(T)\n",
        "    for i in range(n):\n",
        "        if T[i] == k:\n",
        "            return True\n",
        "    return False\n",
        "\n",
        "print(\"zad_a = (lista) \", zad_a([3, 4, 5, 5, 7, 9, 4, 2, 1]))\n",
        "print(\"zad_b = (lista) \", zad_b([3, 4, 5, 5, 7, 9, 4, 2, 1]))\n",
        "print(\"zad_c = (lista) \", zad_c([3, 4, 5, 5, 7, 9, 4, 2, 1]))\n",
        "print(\"zad_d = (lista) \", zad_d([3, 4, 5, 5, 7, 9, 4, 2, 1]))\n",
        "print(\"zad_e = (lista) \", zad_e([3, 4, 5, 5, 7, 9, 4, 2, 1], 7))\n",
        "\n",
        "print(\"zad_a = (krotka) \", zad_a((3, 4, 5, 5, 7, 9, 4, 2, 1)))\n",
        "print(\"zad_b = (krotka) \", zad_b((3, 4, 5, 5, 7, 9, 4, 2, 1)))\n",
        "print(\"zad_c = (krotka) \", zad_c((3, 4, 5, 5, 7, 9, 4, 2, 1)))\n",
        "print(\"zad_d = (krotka) \", zad_d((3, 4, 5, 5, 7, 9, 4, 2, 1)))\n",
        "print(\"zad_e = (krotka) \", zad_e((3, 4, 5, 5, 7, 9, 4, 2, 1), 7))\n"
      ]
    },
    {
      "cell_type": "code",
      "execution_count": null,
      "id": "17bf5ba5-7e07-4e95-9571-f0b03c50edc0",
      "metadata": {
        "id": "17bf5ba5-7e07-4e95-9571-f0b03c50edc0"
      },
      "outputs": [],
      "source": [
        "def zad_a(T):\n",
        "    for k in T:\n",
        "        if k != 2:\n",
        "            return True\n",
        "    return False    \n",
        "\n",
        "def zad_b(T):\n",
        "    for k in T:\n",
        "        if k < 0:\n",
        "            return False\n",
        "    return True\n",
        "\n",
        "def zad_c(T):\n",
        "    for k in T:\n",
        "        if k < 5 or k > 8:\n",
        "            return True\n",
        "    return False \n",
        "\n",
        "def zad_d(T):\n",
        "    for k in T:\n",
        "        if k <= 11:\n",
        "            return False\n",
        "    return True \n",
        "\n",
        "def zad_e (T, k):\n",
        "    if k in T:\n",
        "        return True\n",
        "    return False\n",
        "\n",
        "print(\"zad_a = (lista) \", zad_a([3, 4, 5, 5, 7, 9, 4, 2, 1]))\n",
        "print(\"zad_b = (lista) \", zad_b([3, 4, 5, 5, 7, 9, 4, 2, 1]))\n",
        "print(\"zad_c = (lista) \", zad_c([3, 4, 5, 5, 7, 9, 4, 2, 1]))\n",
        "print(\"zad_d = (lista) \", zad_d([3, 4, 5, 5, 7, 9, 4, 2, 1]))\n",
        "print(\"zad_e = (lista) \", zad_e([3, 4, 5, 5, 7, 9, 4, 2, 1], 7)) \n",
        "\n",
        "print(\"zad_a = (krotka) \", zad_a((3, 4, 5, 5, 7, 9, 4, 2, 1)))\n",
        "print(\"zad_b = (krotka) \", zad_b((3, 4, 5, 5, 7, 9, 4, 2, 1)))\n",
        "print(\"zad_c = (krotka) \", zad_c((3, 4, 5, 5, 7, 9, 4, 2, 1)))\n",
        "print(\"zad_d = (krotka) \", zad_d((3, 4, 5, 5, 7, 9, 4, 2, 1)))\n",
        "print(\"zad_e = (krotka) \", zad_e((3, 4, 5, 5, 7, 9, 4, 2, 1), 7))\n"
      ]
    },
    {
      "cell_type": "code",
      "execution_count": null,
      "id": "74988497-e79d-4c96-89d8-841cb9a6fc03",
      "metadata": {
        "id": "74988497-e79d-4c96-89d8-841cb9a6fc03"
      },
      "outputs": [],
      "source": [
        "def zad_a(T, m):\n",
        "    for i in range(m):\n",
        "        print(T[i])\n",
        "\n",
        "def zad_b(T, m, n):\n",
        "    s = 0\n",
        "    for i in range(m):\n",
        "        for j in range(n):\n",
        "            if T[i][j] % 3:\n",
        "                s += T[i][j]\n",
        "    return s\n",
        "\n",
        "def zad_c(T, m, n):\n",
        "    for i in range(m):\n",
        "        for j in range(n):\n",
        "            if i != j:\n",
        "                T[i][j] -= 3\n",
        "        print(T[i])\n",
        "               \n",
        "zad_a([[2, 3, 4, 5], [7, 6, 4, 5], [8, 9, 4, 5]], 3)\n",
        "print(\"suma = \", zad_b([[2, 3, 4, 5], [7, 6, 4, 5], [8, 9, 4, 5]], 3, 4))\n",
        "zad_c([[2, 3, 4, 5], [7, 6, 4, 5], [8, 9, 4, 5]], 3, 4)"
      ]
    },
    {
      "cell_type": "code",
      "execution_count": null,
      "id": "96b6cd6a-2428-4382-8b2f-2b03f314bba0",
      "metadata": {
        "id": "96b6cd6a-2428-4382-8b2f-2b03f314bba0"
      },
      "outputs": [],
      "source": [
        "def zad_a (T):\n",
        "    for P in T:\n",
        "        print(P)\n",
        "\n",
        "def zad_b (T):\n",
        "    s = 0\n",
        "    for P in T:\n",
        "        for k in P:\n",
        "            if k % 3:\n",
        "                s += k\n",
        "    return s\n",
        "              \n",
        "zad_a([[2, 3, 4, 5], [7, 6, 4, 5], [8, 9, 4, 5]])\n",
        "print(\"suma = \", zad_b([[2, 3, 4, 5], [7, 6, 4, 5], [8, 9, 4, 5]]))"
      ]
    },
    {
      "cell_type": "code",
      "source": [
        "krotka=(1,2,3)\n",
        "lista=[1,2,3]\n",
        "lista*=2\n",
        "krotka*=2\n",
        "print(lista)\n",
        "print(krotka)"
      ],
      "metadata": {
        "id": "FUO5SfEtvOWw"
      },
      "id": "FUO5SfEtvOWw",
      "execution_count": null,
      "outputs": []
    },
    {
      "cell_type": "markdown",
      "source": [
        "## Słowniki"
      ],
      "metadata": {
        "id": "KFfDavBG_0e8"
      },
      "id": "KFfDavBG_0e8"
    },
    {
      "cell_type": "markdown",
      "source": [
        "1. **Słowniki (ang. dictionary)** są często wykorzystywanym rodzajem struktury danych w Pythonie. Mają szczególną budowę: każdy element słownika składa się z dwóch powiązanych ze sobą części:\n",
        "- **key** — klucz elementu,\n",
        "- **value** — wartość elementu.\n",
        "2. **Klucze** w słowniku:\n",
        "- nie mogą się powtarzać,\n",
        "- nie można też ich zmieniać,\n",
        "- nie muszą być liczbami, mogą być innych typów.\n",
        "3. **Wartości**:\n",
        "- mogą być zmiennymi dowolnych typów,\n",
        "- mogą się powtarzać,\n",
        "- można je zmieniać. \n",
        "4. **Wartością przypisaną do klucza** może być również **lista, krotka bądź inny słownik (dowolny inny obiekt)**.\n",
        "5. Kolejność elementów w słowniku **nie jest zachowana**. Parę **klucz — wartość** można dodać do słownika lub z niego usunąć w miarę potrzeby.\n",
        "6. Aby **utworzyć słownik**, poszczególne pary klucz — wartość, rozdzielone przecinkami, wymienia się w nawiasie klamrowym. Między kluczem a jego wartością należy umieścić dwukropek."
      ],
      "metadata": {
        "id": "U7GfnMJ22r_n"
      },
      "id": "U7GfnMJ22r_n"
    },
    {
      "cell_type": "code",
      "source": [
        "# Przykład \n",
        "nowySlownik = {1: \"bokser\", 2: \"jamnik\", 3: \"szpic\", 4: \"terier\",\n",
        "5: \"ogar\", 6: \"akita\"}\n",
        "\n",
        "print(nowySlownik)\n",
        "nowySlownik[4] = \"amstaf\"\n",
        "print(nowySlownik)\n",
        "\n",
        "nowySlownik[7] = \"bokser\"\n",
        "print(nowySlownik)\n",
        "\n",
        "nowySlownik2 = {\"rasa\": \"szpic\", \"nazwa\": \"Roxa\" }\n",
        "print(nowySlownik2)\n",
        "print(nowySlownik2[\"rasa\"])\n",
        "\n",
        "nowySlownik = {1: \"bokser\", 2: \"jamnik\", 3: \"szpic\", 4: \"terier\",\n",
        "5: \"ogar\", 6: \"akita\"}\n",
        "\n",
        "print(len(nowySlownik))\n",
        "nowySlownik.pop(5)\n",
        "print(nowySlownik)"
      ],
      "metadata": {
        "id": "vWd6oks1BDHj"
      },
      "id": "vWd6oks1BDHj",
      "execution_count": null,
      "outputs": []
    },
    {
      "cell_type": "markdown",
      "source": [
        "7. Słowniki bardzo dobrze sprawdzają się w sytuacjach, gdy trzeba sparować (niekiedy używa się pojęcia „zmapować”) ze sobą takie dane jak nazwisko z numerem, nazwa użytkownika z jego adresem e-mail, nazwa produktu z jego kodem."
      ],
      "metadata": {
        "id": "DQxFY_9PdeGy"
      },
      "id": "DQxFY_9PdeGy"
    },
    {
      "cell_type": "markdown",
      "source": [
        "## Zbiory"
      ],
      "metadata": {
        "id": "ZHBBfRmPesGX"
      },
      "id": "ZHBBfRmPesGX"
    },
    {
      "cell_type": "markdown",
      "source": [
        "1. **Zbiór (ang. set)** w Pythonie jest nieuporządkowaną kolekcją niepowtarzalnych elementów. Właśnie te dwie właściwości — brak jakiejkolwiek kolejności elementów i brak możliwości pojawienia się takich samych elementów — stanowią najważniejsze cechy charakterystyczne tej struktury danych.\n",
        "2. **Listy, krotki i słowniki** mogą przechowywać dowolne elementy. W **zbiorze** można przechowywać jedynie te, których **wartości się nie zmieniają** (muszą implementować funkcje skrótu, czyli być haszowalne), na przykład **liczby, ciągi znaków, krotki**. <font color=\"red\"><b>Nie można w zbiorze przechować obiektów, które mogą się zmieniać, takich jak słowniki i listy.</b></font>\n",
        "3. Aby **utworzyć zbiór**, korzystamy z **nawiasu klamrowego**, wewnątrz którego zapisujemy elementy zbioru oddzielone od siebie znakami przecinka. Możemy też użyć metody **set()** - jest to przydatne w sytuacji, gdy trzeba listę przekształcić w zbiór."
      ],
      "metadata": {
        "id": "XE6_OsE_evFS"
      },
      "id": "XE6_OsE_evFS"
    },
    {
      "cell_type": "code",
      "source": [
        "# Przykład \n",
        "\n",
        "moj_zbior = {1, -15, -34, 1, -54, 180, 2}\n",
        "print(moj_zbior)\n",
        "\n",
        "moja_lista = [1, -15, -34, 1, -54, 168, 2]\n",
        "print(moja_lista)\n",
        "print(set(moja_lista))\n",
        "\n",
        "moj_zbior = {1, -15, -34, 1, -54, 106, 2}\n",
        "moj_zbior_2 = {1, 2, -3, 4, -15, 12, 2}\n",
        "\n",
        "print(moj_zbior & moj_zbior_2)\n",
        "print(moj_zbior | moj_zbior_2)\n",
        "print(moj_zbior - moj_zbior_2)\n",
        "print(moj_zbior ^ moj_zbior_2)"
      ],
      "metadata": {
        "id": "QgxdqjCrgL4H"
      },
      "id": "QgxdqjCrgL4H",
      "execution_count": null,
      "outputs": []
    },
    {
      "cell_type": "markdown",
      "source": [
        "4. Operacje na zbiorach możemy przeprowadzić za pomocą  operatorów:\n",
        "- **część wspólna (&)** — otrzymamy wspólne elementy z obydwóch zbiorów,\n",
        "- **dodawanie (|)** — otrzymamy elementy obydwóch zbiorów, ale bez powtarzających się elementów,\n",
        "- **odejmowanie (-)** — otrzymamy elementy z pierwszego zbioru, których nie ma w drugim zbiorze,\n",
        "- **koniunkcja (^)** — otrzymamy elementy z obydwóch zbiorów bez elementów wspólnych.\n",
        "5. Zbiory okazują się przydatne szczególnie w następujących sytuacjach:\n",
        "- kiedy trzeba przeprowadzić operacje na zbiorach: wyznaczyć część wspólną lub różnicę albo dokonać koniunkcji kolekcji;\n",
        "- kiedy trzeba z kolekcji usunąć powtarzające się elementy, za pomocą\n",
        "funkcji **set()** możemy **przekształcić listę lub krotkę w zbiór**,\n",
        "- kiedy trzeba sprawdzić, czy dany element znajduje się w kolekcji,\n",
        "- operacje na zbiorach są wykonywane szybciej niż na listach.\n",
        "6. Wybrane funkcje do wykonywania działań na zbiorach:\n",
        "\n",
        "| Funkcja | Przeznaczenie | Składnia|\n",
        "|---------|---------------|---------|\n",
        "|**union()**| łaczenie zbiorów|**zbiorA.union(zbiorB)**|\n",
        "|**intersection()**| wyznaczanie części |**zbiorA.intersection(zbiorB)**|\n",
        "|                  |wspólnej zbiorów| |\n",
        "|**difference()**| wyznaczanie różnicy |**zbiorA.difference(zbiorB)**|\n",
        "|                  |zbiorów| |\n",
        "|**symmetric_difference()**| wyznaczanie symetrycznej |**zbiorA.symmetric_**|\n",
        "|                  |różnicy zbiorów| **difference(zbiorB)**|\n",
        "|**update()**| dodawanie do zbioru |**zbiorA.update(zbiorB)**|\n",
        "|                  |A elementów zbioru B| |\n",
        "|**add()**| dodawanie elementu |**zbior.add(element)**|\n",
        "|                  |**element** do zbioru| |\n",
        "|**pop()**| usuwanie ze zbioru |**zbior.pop()**|\n",
        "|                  |i zwracanie losowego elementu| |\n",
        "|**discard()**| usuwanie elementu |**zbior.discard(element)**|\n",
        "|                  |**element** ze zbioru  |\n",
        "|**clear()**| usuwanie wszystkich |**zbior.clear()**|\n",
        "|                  |elementów ze zbioru| |\n",
        "|**len()**| sprawdzanie liczby |**len(zbior)**|\n",
        "|                  |elementów zbioru | |"
      ],
      "metadata": {
        "id": "Ua9SSctLg2mY"
      },
      "id": "Ua9SSctLg2mY"
    },
    {
      "cell_type": "markdown",
      "id": "ee85a37c-c820-4771-89ed-302f7c9d232a",
      "metadata": {
        "id": "ee85a37c-c820-4771-89ed-302f7c9d232a"
      },
      "source": [
        "## ĆWICZENIA\n",
        "1. Napisz funkcje rekurencyjne wyznaczające n-ty wyraz podanego ciągu liczbowego:<br>\n",
        "   a) (4; 7; 10; 13; 16; 19; 22; 25; 28...);<br>\n",
        "   b) (2; 4;8; 16; 32; 64; 128; 256; 512...);<br>\n",
        "   c) (2; -6; 18; -54; 162; -486; 1458...);<br>\n",
        "   d) (-10; 5; -2,5; 1,25; -0,625; 0,3125...); <br>\n",
        "   e) (3; 5; 4; 6; 5; 7; 6; 8; 7...);<br>\n",
        "   f) (1,5; 1; 0,5; -0,5; -2; -4,5; -8,5; -15... );<br>\n",
        "   g) (-3; 1; -4; -5; 19; -96; -1825; 175199...);<br>\n",
        "   h) (2 2,5; 3; -5; 7,5; -4,5; -0,5; 8; -12,5...);<br>\n",
        "   i) (-1; 0; 0,5; 1,5; 1,5; 1; -0,5; -2; -3...);<br>\n",
        "   j) (0;1; -1; 2; -2; 3; -3; 4; -4...).<br>\n",
        "2. Napisz program obliczający wartość symbolu Newtona określonego wzorem:<br>\n",
        "$\\binom{n}{k}=\\frac{n!}{k!(n-k)!} $\n",
        "gdzie **k** i **n** to liczby naturalne spełniające warunek **0 < k < n**. W programie zastosuj funkcję rekurencyjną obliczającą silnię liczby naturalnej.\n",
        "3. Napisz program wykonujący następujące operacje na liście jednowymiarowej:<br>\n",
        "a) wypisanie wszystkich elementów listy;<br>\n",
        "b) obliczenie liczby tych elementów listy, których indeks nie jest podzielny przez 5;<br>\n",
        "c) zwiększenie o 2 tych elementów listy, które mają nieparzysty indeks zawarty w przedziale [3, 8], i wypisanie tej listy; <br>\n",
        "d) sprawdzenie, czy na wczytanej liście wartości wszystkich elementów są nieujemne; <br>\n",
        "e) obliczenie iloczynu tych elementów listy, których wartość jest równa 5; <br>\n",
        "f) sprawdzenie, czy na wczytanej liście znajduje się element, którego wartość nie zawiera się w przedziale [5, 8]. <br>\n",
        "4. Napisz program realizujący następujące operacje na liście dwuwymiarowej: <br>\n",
        "a) wypisywanie elementów listy z podziałem na wiersze; <br>\n",
        "b) zamiana dwóch kolumn listy: numer 1 i numer 2;<br>\n",
        "c) zamiana dwóch wierszy listy wskazanych przez użytkownika.<br>\n",
        "5. Napisz program generujący listę o wymiarach 4x3, której elementy mają następujące wartości:\n",
        "\n",
        "|  |0 | 1|2 | \n",
        "|--|--|--|--|\n",
        "|0 | 1| 3| 5|\n",
        "|1 | 6| 8|10|\n",
        "|2 | 1|13|15|\n",
        "|3 |16|18|20|\n",
        "\n",
        "Wartości elementów listy należy wyznaczyć, korzystając z ich indeksów: numeru wiersza i numeru kolumny.<br>\n",
        "6. Napisz program realizujący następujące operacje na liście dwuwymiarowej:<br>\n",
        "a) wypisywanie elementów listy z podziałem na wiersze;<br>\n",
        "b) obliczenie iloczynu tych elementów listy, których wartość jest większa od 5;<br>\n",
        "c) obliczenie liczby tych elementów listy, których wartość jest różna od 0;<br>\n",
        "d) sprawdzenie, czy na liście znajduje się element, którego wartość jest nie mniejsza od 20.<br>"
      ]
    }
  ],
  "metadata": {
    "kernelspec": {
      "display_name": "Python 3 (ipykernel)",
      "language": "python",
      "name": "python3"
    },
    "language_info": {
      "codemirror_mode": {
        "name": "ipython",
        "version": 3
      },
      "file_extension": ".py",
      "mimetype": "text/x-python",
      "name": "python",
      "nbconvert_exporter": "python",
      "pygments_lexer": "ipython3",
      "version": "3.9.7"
    },
    "colab": {
      "provenance": []
    }
  },
  "nbformat": 4,
  "nbformat_minor": 5
}