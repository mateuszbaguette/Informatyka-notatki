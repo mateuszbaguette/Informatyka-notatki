{
  "nbformat": 4,
  "nbformat_minor": 0,
  "metadata": {
    "colab": {
      "provenance": []
    },
    "kernelspec": {
      "name": "python3",
      "display_name": "Python 3"
    },
    "language_info": {
      "name": "python"
    }
  },
  "cells": [
    {
      "cell_type": "markdown",
      "source": [
        "##T: Potęgowanie szybkie"
      ],
      "metadata": {
        "id": "mV4Wt8jhW72s"
      }
    },
    {
      "cell_type": "markdown",
      "source": [
        "https://pl.wikipedia.org/wiki/Algorytm_szybkiego_pot%C4%99gowania"
      ],
      "metadata": {
        "id": "2AyYqGwpXr-P"
      }
    },
    {
      "cell_type": "markdown",
      "source": [
        "https://www.algorytm.edu.pl/algorytmy-maturalne/potegowanie-szybkie.html"
      ],
      "metadata": {
        "id": "U5yBYfQ6XHYW"
      }
    }
  ]
}