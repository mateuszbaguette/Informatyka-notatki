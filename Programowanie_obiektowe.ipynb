{
  "nbformat": 4,
  "nbformat_minor": 0,
  "metadata": {
    "colab": {
      "provenance": []
    },
    "kernelspec": {
      "name": "python3",
      "display_name": "Python 3"
    },
    "language_info": {
      "name": "python"
    }
  },
  "cells": [
    {
      "cell_type": "markdown",
      "source": [
        "## T: Programowanie obiektowe."
      ],
      "metadata": {
        "id": "pNxoSrHhaTcu"
      }
    },
    {
      "cell_type": "markdown",
      "source": [
        "## I. Wprowadzenie"
      ],
      "metadata": {
        "id": "gxKMPafJaPjz"
      }
    },
    {
      "cell_type": "markdown",
      "source": [
        "1. **Paradygmat programowania** możemy zdefiniować jako zbiór mechanizmów wykorzystywanych do napisania programu oraz sposób, w jaki ten program jest wykonywany. Innymi słowy, jest to zbiór kluczowych założeń przyjętych do rozwiązania problemu programistycznego.\n",
        "2. Powstawanie i kształtowanie się poszczególnych paradygmatów było związane z rozwojem architektur systemów komputerowych, języków programowania i oczekiwań samych programistów. Jednym z najstarszych paradygmatów programowania jest programowanie zorientowane obiektowo. Za jego początki uznaje się lata 60. zeszłego stulecia, gdy powstał język **Simula 67**. Jednak idea programowania zorientowanego obiektowo rozpowszechniła się dopiero po zaprojektowaniu języka **C++**, co miało miejsce w **1983 r**. Do dziś programowanie zorientowane obiektowo jest jednym z kluczowych paradygmatów programowania.\n",
        "3. Paradygmat programowania zorientowanego obiektowo opiera się na założeniu, że aplikację należy tworzyć w taki sposób, aby jak najlepiej odzwierciedlać w programie model rozwiązywanego problemu. Wynika to ze spostrzeżenia, że jeśli program komputerowy odzwierciedla sposób, w jaki człowiek postrzega otaczającą rzeczywistość, łatwiej jest zrozumieć kod i współpracować z innymi programistami. Do innych zalet programowania zorientowanego obiektowo należy ograniczanie ryzyka popełniania błędów przy przy programowaniu i łatwiejsze wielokrotne wykorzystywanie raz napisanego kodu do rozwiązania innych problemów.\n",
        "4. Spośród języków przeznaczonych do programowania zorientowanego obiektowo można wymienić, poza wspomnianym wcześniej C++, również języki Java, Perl, PHP5 i Python.\n",
        "5. **Programowanie zorientowane obiektowo** jest paradygmatem programowania, gdzie zachowanie programu określa się za pomocą **obiektów**, które łączą w sobie **stan (dane)** i **zachowania (metody)**. Zbiór obiektów w takim programie komunikuje się ze sobą w celu wykonywania zadań.\n",
        "6. **Obiekt** jest strukturą danych, **fizyczną instancją** pewnej **klasy**, zawierającą **dane** i **metody**. Obiekt jest też abstrakcją konkretnego bytu (rzeczy, pojęcia, koncepcji), ma pewne właściwości i może zachowywać się w określony sposób.\n",
        "7. Obiekty mają trzy podstawowe cechy:\n",
        "<ol>\n",
        "<li> <b>tożsamość</b> — konieczne jest umożliwienie identyfikacji obiektu i odróżniania go od innych obiektów.\n",
        "<li> <b>stan</b> — możliwość określenia stanu danych składowych obiektu. Stan jest opisywany <b>atrybutami</b>, takimi jak <b>zmienne</b>.\n",
        "<li> <b>zachowanie</b> — operacje, które może wykonać obiekt. Pojęcie to określa również <b>metody (funkcje)</b> zaimplementowane w obiekcie. Poprzez zachowanie obiekt może zmienić swój stan.\n",
        "</ol>\n",
        "8. **Klasa** jest typem danych służącym jako szablon dla określonego rodzaju obiektów. Zawiera struktury danych oraz metody determinujące możliwe zachowania obiektu.\n",
        "9. Możemy przyjąć, że **klasa** jest swoistym **szablonem, wzorcem**, na podstawie którego powstają **obiekty (instancje klasy)**. Klasa zawiera opis właściwości i zachowań, jakimi charakteryzować się będą jej obiekty.\n",
        "10. **Właściwości (pola)** i **metody** zdefiniowane w klasie charakteryzują\n",
        "się określonym zasięgiem. Podstawowe rodzaje zasięgu pól klasy to:<br>\n",
        "- **prywatny** (kwalifikator **private**) — składowe są dostępne tylko dla metod danej klasy;\n",
        "- **publiczny** (kwalifikator **public**) — składowe są dostępne również spoza danej klasy, także z poziomu głównego bloku programu;\n",
        "- **chroniony** (kwalifikator **protected**) — składowe są dostępne tylko w ramach swojej klasy i jej potomnych.\n",
        "11. Z zasięgiem składowych klasy i wymienionych wyżej kwalifikatorów jest związane pojęcie **hermetyzacji**, czyli **enkapsulacji** - polegające na ukrywaniu wybranych składowych klasy przed bezpośrednim dostępem spoza tej klasy. Dostęp do metod i pól o ograniczonym dostępie jest możliwy tylko poprzez metody publiczne.\n",
        "12. Główne założenia programowania obiektowego opierają się na czterech kluczowych pojęciach:\n",
        "<ol>\n",
        "<li> <b>abstrakcja</b> — ograniczenie cech obiektu do kluczowych, najważniejszych z punktu widzenia użytkowników interfejsu. Ułatwia rozwiązywanie problemu i zwiększa jego ogólność;\n",
        "<li> <b>hermetyzacja (inaczej: enkapsulacja)</b> — powoduje, że obiekt nie może w nieoczekiwany sposób zmieniać stanu wewnętrznego innych obiektów. Dla każdego typu obiektu istnieje sposób współpracy z innymi obiektami, a bezpośredni dostęp do zmiennych w obiekcie jest zabroniony;\n",
        "<li> <b>dziedziczenie</b> — pozwala zdefiniować obiekty na podstawie obiektów bardziej ogólnych. W ten sposób możliwe jest tworzenie hierarchii obiektów w programie.\n",
        "<li> <b>polimorfizm</b> — umożliwia różne zachowanie metod noszących tę samą nazwę w trakcie wykonywania programu.\n"
      ],
      "metadata": {
        "id": "RDR7dC_zaiUq"
      }
    },
    {
      "cell_type": "markdown",
      "source": [
        "# II. Programowanie obiektowe w Pythonie."
      ],
      "metadata": {
        "id": "52sM2aO-kdZA"
      }
    },
    {
      "cell_type": "markdown",
      "source": [
        "1. Definiowanie klasy i tworzenie jej instancji:<br>\n",
        "- klasa jest typem danych, który służy jako szablon dla definicji obiektu,  \n",
        "- w Pythonie można definiować klasy y zawierające zmienne i metody,\n",
        "- w jednym pliku źródłowym lub module może się znaleźć dowolna liczba klas,\n",
        "- do definiowania klasy służy instrukcja **class** o postaci:"
      ],
      "metadata": {
        "id": "79K8zDVgkjlo"
      }
    },
    {
      "cell_type": "code",
      "source": [
        "class Nazwa(Nadklasy):\n",
        "  instrukcje"
      ],
      "metadata": {
        "id": "Doa_Tw84lTIB"
      },
      "execution_count": null,
      "outputs": []
    },
    {
      "cell_type": "markdown",
      "source": [
        "  lub"
      ],
      "metadata": {
        "id": "i1ABJVCjlYt0"
      }
    },
    {
      "cell_type": "code",
      "source": [
        "class Nazwa:\n",
        "  instrukcje"
      ],
      "metadata": {
        "id": "1We5-c_Eldc1"
      },
      "execution_count": null,
      "outputs": []
    },
    {
      "cell_type": "markdown",
      "source": [
        "- nazwa klasy powinna być unikatowa w swoim zasięgu,\n",
        "- do tej samej klasy może odwoływać się wiele zmiennych,\n",
        "- w ciele klasy definiuje się potrzebne pola: **zmienne** i **metody**.\n",
        "2. Cechą silnie **odróżniającą Pythona od innych obiektowych języków programowania** jest to, że <font color=red><b>w Pythonie zasadniczo nie ogranicza się dostępu do składowych klas — wszystkie pola i metody są domyślnie publiczne</b></font>:<br>\n",
        "- wymusza to na programistach dużą ostrożność podczas projektowania klas oraz korzystania z klas napisanych przez innych programistów.\n",
        "3. Jeśli tworzona **klasa** ma być **pusta** (nie powinna zawierać żadnych pól), należy w jej definicji umieścić instrukcję **pass**. Na przykład:"
      ],
      "metadata": {
        "id": "JSL_PX8tliZI"
      }
    },
    {
      "cell_type": "code",
      "source": [
        "class MojeButy:\n",
        "  pass"
      ],
      "metadata": {
        "id": "lfrBpAu9okSw"
      },
      "execution_count": null,
      "outputs": []
    },
    {
      "cell_type": "markdown",
      "source": [
        "4. **Utworzenie instancji klasy** następuje przez wywołanie tej **klasy**, podobnie jak funkcji. Do utworzenia **obiektu trzewik** należącego do **klasy\n",
        "MojeButy** służy polecenie:"
      ],
      "metadata": {
        "id": "9B3JucD3pF-L"
      }
    },
    {
      "cell_type": "code",
      "source": [
        "trzewik = MojeButy( )"
      ],
      "metadata": {
        "id": "BwxO5c93pe9_"
      },
      "execution_count": null,
      "outputs": []
    },
    {
      "cell_type": "markdown",
      "source": [
        "5. Z daną klasą możemy wiązać **zmienne**, czyli **atrybuty**. Język\n",
        "Python pozwala dodawać atrybuty do instancji klasy, co powoduje modyfikację **tylko tej jednej instancji**. Zmiennych tych nie trzeba wcześniej deklarować. Przykładowo aby dodać atrybuty do instancji **trzewik**, należy ustawić nowe wartości w tej instancji:"
      ],
      "metadata": {
        "id": "HoWZOc52ppfB"
      }
    },
    {
      "cell_type": "code",
      "source": [
        "trzewik.kolor = \"czarny\"\n",
        "trzewik.stan = \"nowy\""
      ],
      "metadata": {
        "id": "5bd8Ro0sqCHY"
      },
      "execution_count": null,
      "outputs": []
    },
    {
      "cell_type": "markdown",
      "source": [
        "6. W klasie można zdefiniować **metody**. Pojęcie „metoda” oznacza tu dowolną funkcję, jaka zostanie zdefiniowana w ciele klasy. Poprawnie zdefiniowana metoda **musi przyjmować conajmniej jeden argument**, który zwyczajowo, zgodnie z konwencją, jest nazywany <font color=blue><b>self</b></font> i powinien być zadeklarowany jako pierwszy. **Reprezentuje on referencję do instancji klasy**.<br>\n",
        "Atrybuty i metody klasy możemy zdefiniować na przykład w następujący sposób:"
      ],
      "metadata": {
        "id": "87q82NYhqGCY"
      }
    },
    {
      "cell_type": "code",
      "source": [
        "class Elementy:\n",
        "  ile = 8\n",
        "  nazwa = \"klocki\"\n",
        "\n",
        "def metodaA(self):\n",
        "    print(Elementy.ile)\n",
        "\n",
        "def metodaB(self):\n",
        "    print(Elementy.nazwa)\n",
        "\n",
        "def metodaC(self, atrybutC):\n",
        "    self.atrybutC = \"tekst\"\n",
        "    print(atrybutC, self.atrybutC)\n"
      ],
      "metadata": {
        "id": "-MTafNY1qkUk"
      },
      "execution_count": null,
      "outputs": []
    },
    {
      "cell_type": "markdown",
      "source": [
        "7. Odwołania do atrybutów klasy muszą być kwalifikowane nazwą klasy, na przykład **Elementy.ile**. Nieco inaczej jest przy odwołaniu do atrybutów instancji (obiektu) — powinny być kwalifikowane wcześniej wspomnianym argumentem **self**, przykładowo **self.ile**.\n",
        "Jeśli chcemy odwołać się do atrybutów klasy spoza niej, należy zastosować kwalifikacje nazwą klasy (**Elementy. ile**) lub instancji klasy (**p.ile**, gdzie **p** jest nazwą instancji klasy).\n",
        "8.Zmienne i metody ukryte - **istnieje możliwość ukrywania elementów klasy**, tak aby były przez interpreter traktowane jak prywatne. Nie jest to jednak równoznaczne z działaniem kwalifikatora **private** funkcjonującego w języku C++, lecz jedynie ukrycie tych pól — <font color=red><b>do zmiennych prywatnych dostęp spoza klasy wciąż jest możliwy</b></font>:\n",
        "- aby utworzyć zmienną lub metodę prywatną, należy ich nazwę rozpocząć od dwóch znaków podkreślenia **__**, na przykład **__ukrytaZmienna**. W przypadku zadeklarowania prywatnej zmiennej interpreter Pythona automatycznie doda nazwę klasy do nazwy zadeklarowane i w ten sposób utworzy właśnie zmienne ukryte."
      ],
      "metadata": {
        "id": "RMkJ2cDlrq1p"
      }
    },
    {
      "cell_type": "code",
      "source": [
        "class Tajnaklasa:\n",
        "    __ukrytaZmienna = 10\n",
        "\n",
        "    def __ukrytaMetoda(self, sekret):\n",
        "        self.__sekret = sekret"
      ],
      "metadata": {
        "id": "wW_iBwnp20JD"
      },
      "execution_count": null,
      "outputs": []
    },
    {
      "cell_type": "markdown",
      "source": [
        "9. **Dziedziczenie** jest jednym z najważniejszych aspektów programowania zorientowanego obiektowo. Język Python umożliwia wykorzystywanie kilku mechanizmów dziedziczenia:\n",
        "![image.png](data:image/png;base64,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)\n",
        "\n",
        "- pojazdy to bardzo szeroka klasa, **podklasami (subclasses)** będą specjalizowane klasy, a klasa pojazdy będzie **superklasą (superclass)** bardziej ogólną i abstrakcyjną klasą wobec pozostałych\n",
        "- najbardziej oczywisty podział zależy od **liczby nadklas**,\n",
        "- jeśli dana klasa dziedziczy z jednej klasy bazowej, mówimy o **dziedziczeniu pojedynczym**, a jeśli z większej ich liczby — wtedy mamy do czynienia z **dziedziczeniem wielokrotnym**,\n",
        "- nazwy klas bazowych wpisuje się w nawiasie po nazwie definiowanej klasy,\n",
        "- jeśli klas bazowych jest więcej, ich nazwy oddziela się przecinkami,"
      ],
      "metadata": {
        "id": "-nsVAudz3Ey_"
      }
    },
    {
      "cell_type": "code",
      "source": [
        "class Tata: pass\n",
        "class Mama: pass\n",
        "class Corka(Mama): pass\n",
        "class Syn(Tata, Mama): pass"
      ],
      "metadata": {
        "id": "X5QtHzet5HEC"
      },
      "execution_count": null,
      "outputs": []
    },
    {
      "cell_type": "markdown",
      "source": [
        "- metody i zmienne klasy bazowej są dostępne w klasach potomnych,\n",
        "- wyjątkiem są metody i zmienne ukryte, które w klasach potomnych są zasadniczo niedostępne. Jeśli w klasie potomnej znajdzie się definicja metody z klasy bazowej, jest ona nadpisywana.\n",
        "\n",
        "10. Metody i pola - **zmienne** w kontekście programowania zorientowanego obiektowo najczęściej nazywa się **polami**. W polu możemy zapisać pojedynczą zmienną, na przykład ciąg znaków lub liczbę.<br>\n",
        "Do przeprowadzania **operacji na danych (polach)** w obiekcie służą **metody** .\n",
        "11. Metody wywoływane są na rzecz konkretnego obiektu. Możemy je oczywiście odczytywać i modyfikować:<br>\n",
        "- istnieją też metody, które mogą być wykonane tylko w istniejącym obiekcie - nazywamy je **metodami instancyjnymi**. Dla metod instancyjnych obowiązkowe jest jawne podanie argumentu — zwyczajowo nazywa się go **self**,\n",
        "- jeśli metoda ma się odwołać do pola obiektu, również musi to nastąpić przez kwalifikowanie argumentem **self**,"
      ],
      "metadata": {
        "id": "urwFyKR05L4a"
      }
    },
    {
      "cell_type": "code",
      "source": [
        "class Licznik:\n",
        "    def __init__ (self, wartosc = 0):\n",
        "       self.wartosc = wartosc\n",
        "\n",
        "    def nastepnik(self, krok = 1):\n",
        "       self. wartosc += krok\n"
      ],
      "metadata": {
        "id": "48kL5sG96pWU"
      },
      "execution_count": null,
      "outputs": []
    },
    {
      "cell_type": "markdown",
      "source": [
        "- oprócz metod instancyjnych istnieją jeszcze **metody statyczne**,które mogą być wywoływane bezpośrednio z poziomu klasy lub obiektu. W przypadku metod statycznych do atrybutów klasy można odwoływać się przez nazwę tej klasy. Metody te nie przyjmują argumentu **self**, natomiast są oznaczone dekoratorem **@staticmethod**:"
      ],
      "metadata": {
        "id": "wUP0RC2aQQmV"
      }
    },
    {
      "cell_type": "code",
      "source": [
        "@staticmethod\n",
        "def kupButy(id):\n",
        "    return cena"
      ],
      "metadata": {
        "id": "wJDL5dxWQzTq"
      },
      "execution_count": null,
      "outputs": []
    },
    {
      "cell_type": "markdown",
      "source": [
        "- metody statyczne danej klasy mogą być wywołane bezpośrednio przez klasę albo przez obiekt,\n",
        "- istnieje jeszcze jeden rodzaj metod - **metody klasowe**, mogą one być wywoływane bezpośrednio z poziomu klasy bądź obiektu. Są oznaczane dekoratorem **@classmethod**. Jako pierwszy argument otrzymują klasę zwyczajowo nazywaną **cls** jako swój pierwszy parametr:"
      ],
      "metadata": {
        "id": "NSKSkJTmQ4Ny"
      }
    },
    {
      "cell_type": "code",
      "source": [
        "@classmethod\n",
        "def budujDom(cls):\n",
        "    print(cls.gotowe)"
      ],
      "metadata": {
        "id": "yNo6ikU-RS0h"
      },
      "execution_count": null,
      "outputs": []
    },
    {
      "cell_type": "markdown",
      "source": [
        "12. **Konstruktory** - w języku C++ obiekty są tworzone przez specjalne metody danej klasy zwane konstruktorami. Po wywołaniu konstruktora program oblicza rozmiar obiektu, alokuje go w pamięci i zapisuje do obiektu niezbędne informacje. Powstawanie obiektów w programie napisanym w języku Python wygląda nieco inaczej:\n",
        "- metoda **__init__**, nie jest to konstruktor w ścisłym tego słowa znaczeniu, gdyż nie tyle tworzy obiekt, ile go inicjalizuje;"
      ],
      "metadata": {
        "id": "SnZ1fmSYRqAg"
      }
    },
    {
      "cell_type": "code",
      "source": [
        "class Osoba:\n",
        "  def __init__(self, imie, nazwisko, rok_urodzenia):\n",
        "      self.imie = imie\n",
        "      self.nazwisko = nazwisko\n",
        "      self.rok_urodzenia = rok_urodzenia\n",
        "\n",
        "  def przedstaw_sie(self):\n",
        "      print(f\"Jestem {self.imie} {self.nazwisko}.Ur.{self.rok_urodzenia}.\")\n",
        "\n",
        "  def urodziny(self):\n",
        "      wiek_przed = self.rok_urodzenia\n",
        "      self.rok_urodzenia += 100\n",
        "      return wiek_przed\n",
        "\n",
        "def main():\n",
        "      Anna = Osoba(\"Anna\", \"Nowak\", 2005)\n",
        "      Adam = Osoba(\"Adam\", \"Gulcz\", 2004)\n",
        "\n",
        "      Anna.przedstaw_sie()\n",
        "      Adam.przedstaw_sie()\n",
        "\n",
        "      wiek_Adama_przed = Adam.urodziny()\n",
        "      Adam.przedstaw_sie()\n",
        "      print(f\"wiek Adama sprzed urodzin: {wiek_Adama_przed}\")\n",
        "\n",
        "if __name__ == \"__main__\":\n",
        "     main()\n",
        "\n"
      ],
      "metadata": {
        "colab": {
          "base_uri": "https://localhost:8080/"
        },
        "id": "MRETP-IbSVBF",
        "outputId": "fd646dae-a23e-43b7-94f7-880d46237e74"
      },
      "execution_count": null,
      "outputs": [
        {
          "output_type": "stream",
          "name": "stdout",
          "text": [
            "Jestem Anna Nowak.Ur.2005.\n",
            "Jestem Adam Gulcz.Ur.2004.\n",
            "Jestem Adam Gulcz.Ur.2104.\n",
            "wiek Adama sprzed urodzin: 2004\n"
          ]
        }
      ]
    },
    {
      "cell_type": "markdown",
      "source": [
        "13. Dostęp do pól i metod klasy oraz metody i pola statyczne:\n",
        "- zwykle w językach obiektowych pola i metody danej klasy\n",
        "mają określony zasięg,\n",
        "- w języku Python poszczególne pola można ukryć przez rozpoczęcie nazwy pola od dwóch znaków podkreślenia (na przykład **__ukrytaZmienna**). Jest to jednak\n",
        "tylko konwencja nazewnicza — w rzeczywistości Python nie daje możliwości skutecznego ograniczania dostępu do pól czy metod klasy i do „ukrytych” zmiennych można się odwoływać;\n",
        "- inną konwencją nazewniczą jest poprzedzanie nazwy pojedynczym znakiem podkreślenia (np. **_niekorzystac**). Jest to ostrzeżenie, że z danego pola lepiej nie korzystać, przykładowo dlatego, że nie jest dostatecznie omówione w dokumentacji,\n",
        "- ciekawą możliwością jest tworzenie pól i metod statycznych. Jest to takie pole lub taka metoda, które można wywołać bez wcześniejszej inicjalizacji obiektu:"
      ],
      "metadata": {
        "id": "uqvmDY58UsOK"
      }
    },
    {
      "cell_type": "code",
      "source": [
        "class Licznik:\n",
        "    idx = 0\n",
        "\n",
        "    def __init__(self):\n",
        "        Licznik.idx += 1\n",
        "        self.ktory = Licznik.idx\n",
        "        print(f\"To jest obiekt nr {Licznik.idx}\")\n",
        "\n",
        "    def __del__(self):\n",
        "        Licznik.idx -= 1\n",
        "        print(f\"Niszczę obiekt nr {self.ktory}, pozostało jeszcze {Licznik.idx}.\")\n",
        "\n",
        "    @staticmethod\n",
        "    def policz():\n",
        "        return Licznik.idx\n",
        "\n",
        "def main():\n",
        "    licznik_c = Licznik()\n",
        "    licznik_a = Licznik()\n",
        "    licznik_b = Licznik()\n",
        "    print(f\"a to obiekt nr {licznik_a.ktory}\")\n",
        "    print(f\"b to obiekt nr {licznik_b.ktory}\")\n",
        "    print(f\"c to obiekt nr {licznik_c.ktory}\")\n",
        "    print(f\"Liczba obiektów to: {Licznik.policz()}\")\n",
        "    licznik_a = None\n",
        "    licznik_b = None\n",
        "    print(f\"Liczba obiektów to: {Licznik.policz()}\")\n",
        "\n",
        "if __name__ == \"__main__\":\n",
        "      main()\n"
      ],
      "metadata": {
        "id": "7tV3g8IdVlQb",
        "colab": {
          "base_uri": "https://localhost:8080/"
        },
        "outputId": "e96227ca-cef7-426f-9a4b-d9e6422ba3fb"
      },
      "execution_count": null,
      "outputs": [
        {
          "output_type": "stream",
          "name": "stdout",
          "text": [
            "To jest obiekt nr 1\n",
            "To jest obiekt nr 2\n",
            "To jest obiekt nr 3\n",
            "a to obiekt nr 2\n",
            "b to obiekt nr 3\n",
            "c to obiekt nr 1\n",
            "Liczba obiektów to: 3\n",
            "Niszczę obiekt nr 2, pozostało jeszcze 2.\n",
            "Niszczę obiekt nr 3, pozostało jeszcze 1.\n",
            "Liczba obiektów to: 1\n",
            "Niszczę obiekt nr 1, pozostało jeszcze 0.\n"
          ]
        }
      ]
    },
    {
      "cell_type": "markdown",
      "source": [
        "## Przykład ze stosem w Pythonie"
      ],
      "metadata": {
        "id": "D7j2Sfj47CPM"
      }
    },
    {
      "cell_type": "code",
      "source": [
        "stack = []\n",
        "\n",
        "\n",
        "def push(val):\n",
        "    stack.append(val)\n",
        "\n",
        "\n",
        "def pop():\n",
        "    val = stack[-1]\n",
        "    del stack[-1]\n",
        "    return val\n",
        "\n",
        "\n",
        "push(3)\n",
        "push(2)\n",
        "push(1)\n",
        "\n",
        "print(pop())\n",
        "print(pop())\n",
        "print(pop())"
      ],
      "metadata": {
        "colab": {
          "base_uri": "https://localhost:8080/"
        },
        "id": "Zxbvpd6y7BXX",
        "outputId": "9a8a5bd8-fe25-456c-bf59-1e4e0cb793ba"
      },
      "execution_count": null,
      "outputs": [
        {
          "output_type": "stream",
          "name": "stdout",
          "text": [
            "1\n",
            "2\n",
            "3\n"
          ]
        }
      ]
    },
    {
      "cell_type": "code",
      "source": [
        "class TheSimplestClass:\n",
        "    pass\n",
        "\n",
        "my_first_object = TheSimplestClass()"
      ],
      "metadata": {
        "id": "rW1bBFnJGyJs"
      },
      "execution_count": null,
      "outputs": []
    },
    {
      "cell_type": "code",
      "source": [
        "class Stack:  # Defining the Stack class.\n",
        "    def __init__(self):  # Defining the constructor function.\n",
        "        print(\"Hi!\")\n",
        "\n",
        "\n",
        "stack_object = Stack()  # Instantiating the object.\n"
      ],
      "metadata": {
        "id": "kGi6ZHlY7LWs",
        "colab": {
          "base_uri": "https://localhost:8080/"
        },
        "outputId": "8907dd29-fcd8-4f09-dd1e-bbe5e8814d4f"
      },
      "execution_count": null,
      "outputs": [
        {
          "output_type": "stream",
          "name": "stdout",
          "text": [
            "Hi!\n"
          ]
        }
      ]
    },
    {
      "cell_type": "code",
      "source": [
        "class Stack:\n",
        "    def __init__(self):\n",
        "        self.stack_list = [] # Add just one property to the new object\n",
        "\n",
        "\n",
        "stack_object = Stack()\n",
        "print(len(stack_object.stack_list))  # We prefer stack_list to be hidden from the outside world.\n"
      ],
      "metadata": {
        "id": "KRHdbbhU7oPf"
      },
      "execution_count": null,
      "outputs": []
    },
    {
      "cell_type": "code",
      "source": [
        "class Stack:\n",
        "    def __init__(self):\n",
        "        self.__stack_list = [] # a name starting with two underscores (__),\n",
        "                               # it becomes private - this means that it can be accessed only from within the class.\n",
        "\n",
        "\n",
        "stack_object = Stack()\n",
        "print(len(stack_object.__stack_list))\n"
      ],
      "metadata": {
        "id": "gxghc6Rl8EtN"
      },
      "execution_count": null,
      "outputs": []
    },
    {
      "cell_type": "code",
      "source": [
        "class Stack:\n",
        "    def __init__(self):\n",
        "        self.__stack_list = []\n",
        "\n",
        "\n",
        "    def push(self, val):\n",
        "        self.__stack_list.append(val)\n",
        "\n",
        "\n",
        "    def pop(self):\n",
        "        val = self.__stack_list[-1]\n",
        "        del self.__stack_list[-1]\n",
        "        return val\n",
        "\n",
        "   # Such a component is called public, so you can't begin its name with two (or more) underscores.\n",
        "   # There is one more requirement - the name must have no more than one trailing underscore.\n",
        "\n",
        "stack_object = Stack()\n",
        "\n",
        "stack_object.push(3)\n",
        "stack_object.push(2)\n",
        "stack_object.push(1)\n",
        "\n",
        "print(stack_object.pop())\n",
        "print(stack_object.pop())\n",
        "print(stack_object.pop())\n"
      ],
      "metadata": {
        "id": "uVOB0bP_8KlM"
      },
      "execution_count": null,
      "outputs": []
    },
    {
      "cell_type": "code",
      "source": [
        "class Stack:\n",
        "    def __init__(self):\n",
        "        self.__stack_list = []\n",
        "\n",
        "    def push(self, val):\n",
        "        self.__stack_list.append(val)\n",
        "\n",
        "    def pop(self):\n",
        "        val = self.__stack_list[-1]\n",
        "        del self.__stack_list[-1]\n",
        "        return val\n",
        "\n",
        "\n",
        "stack_object_1 = Stack()\n",
        "stack_object_2 = Stack()\n",
        "\n",
        "# There are two stacks created from the same base class. They work independently.\n",
        "\n",
        "stack_object_1.push(3)\n",
        "stack_object_2.push(stack_object_1.pop())\n",
        "\n",
        "print(stack_object_2.pop())\n"
      ],
      "metadata": {
        "id": "MlPfoi848WBh"
      },
      "execution_count": null,
      "outputs": []
    },
    {
      "cell_type": "code",
      "source": [
        "class Stack:\n",
        "    def __init__(self):\n",
        "        self.__stack_list = []\n",
        "\n",
        "    def push(self, val):\n",
        "        self.__stack_list.append(val)\n",
        "\n",
        "    def pop(self):\n",
        "        val = self.__stack_list[-1]\n",
        "        del self.__stack_list[-1]\n",
        "        return val\n",
        "\n",
        "\n",
        "little_stack = Stack()\n",
        "another_stack = Stack()\n",
        "funny_stack = Stack()\n",
        "\n",
        "little_stack.push(1)\n",
        "another_stack.push(little_stack.pop() + 1)\n",
        "funny_stack.push(another_stack.pop() - 2)\n",
        "\n",
        "print(funny_stack.pop())"
      ],
      "metadata": {
        "id": "4MUSd8vn8f97"
      },
      "execution_count": null,
      "outputs": []
    },
    {
      "cell_type": "code",
      "source": [
        "class Stack:\n",
        "    def __init__(self):\n",
        "        self.__stack_list = []\n",
        "\n",
        "    def push(self, val):\n",
        "        self.__stack_list.append(val)\n",
        "\n",
        "    def pop(self):\n",
        "        val = self.__stack_list[-1]\n",
        "        del self.__stack_list[-1]\n",
        "        return val\n",
        "\n",
        "\n",
        "class AddingStack(Stack): # Add a new class for handling stacks.\n",
        "    def __init__(self):\n",
        "        Stack.__init__(self) # Contrary to many other languages, Python forces you to explicitly !!!\n",
        "                             # invoke a superclass's constructor. Omitting this point will have harmful\n",
        "                             # effects - the object will be deprived of the __stack_list list.\n",
        "                             # Such a stack will not function properly.\n",
        "\n",
        "        self.__sum = 0  # A private variable\n",
        "                        # The second line of the constructor's body creates a property\n",
        "                        # named __sum - it will store the total of all the stack's values.\n",
        "\n",
        "        # Note the syntax:\n",
        "\n",
        "        # you specify the superclass's name (this is the class whose constructor you want to run)\n",
        "        # you put a dot (.)after it;\n",
        "        # you specify the name of the constructor;\n",
        "        # you have to point to the object (the class's instance) which has to be initialized\n",
        "        # by the constructor - this is why you have to specify the argument and use the self variable here;\n",
        "        # note: invoking any method (including constructors) from outside the class never requires you to\n",
        "        # put the self argument at the argument's list - invoking a method from within the class demands\n",
        "        # explicit usage of the self argument, and it has to be put first on the list.\n"
      ],
      "metadata": {
        "id": "MlwnHl9G8mWW"
      },
      "execution_count": null,
      "outputs": []
    },
    {
      "cell_type": "code",
      "source": [
        "class Stack:\n",
        "    def __init__(self):\n",
        "        self.__stack_list = []\n",
        "\n",
        "    def push(self, val):\n",
        "        self.__stack_list.append(val)\n",
        "\n",
        "    def pop(self):\n",
        "        val = self.__stack_list[-1]\n",
        "        del self.__stack_list[-1]\n",
        "        return val\n",
        "\n",
        "\n",
        "class AddingStack(Stack):\n",
        "    def __init__(self):\n",
        "        Stack.__init__(self)\n",
        "        self.__sum = 0\n",
        "\n",
        "    # Change the functionality of the methods, not their names. We can say more\n",
        "    # precisely that the interface (the way in which the objects are handled) of\n",
        "    # the class remains the same when changing the implementation at the same time.\n",
        "\n",
        "    def get_sum(self):\n",
        "        return self.__sum\n",
        "\n",
        "    def push(self, val):         # The push method has been overridden - the same name\n",
        "        self.__sum += val        # as in the superclass now represents a different functionality.\n",
        "        Stack.push(self, val)\n",
        "\n",
        "    def pop(self):\n",
        "        val = Stack.pop(self)\n",
        "        self.__sum -= val\n",
        "        return val\n",
        "\n",
        "\n",
        "stack_object = AddingStack()\n",
        "\n",
        "for i in range(5):\n",
        "    stack_object.push(i)\n",
        "print(stack_object.get_sum())\n",
        "\n",
        "for i in range(5):\n",
        "    print(stack_object.pop())\n",
        "\n",
        "#==================PODSUMOWANIE ===============================================================\n",
        "# 1. A class method is actually a function declared inside the class and able to access\n",
        "# all the class's components.\n",
        "# 2. The part of the Python class responsible for creating new objects is called\n",
        "# the constructor, and it's implemented as a method of the name __init__.\n",
        "# 3. Each class method declaration must contain at least one parameter (always the first one)\n",
        "# usually referred to as self, and is used by the objects to identify themselves.\n",
        "# 4. If we want to hide any of a class's components from the outside world, we should\n",
        "# start its name with __. Such components are called private."
      ],
      "metadata": {
        "id": "CpjV68f78_6v"
      },
      "execution_count": null,
      "outputs": []
    },
    {
      "cell_type": "markdown",
      "source": [
        "## Ćwiczenia:"
      ],
      "metadata": {
        "id": "QrWC48k1aZpH"
      }
    },
    {
      "cell_type": "markdown",
      "source": [
        "1. Napisz w języku Python klasę Funkcjakwadratowa, która będzie przechowywać funkcję $ax^2+bx+c$. Klasa powinna zawierać trzy pola: *a, b, c*, które będą przypisywane w konstruktorze. Główną metodą powinna być *Rozwiaz()*, która będzie przekazywać wynik miejsca zerowe podanej funkcji. Należy zwrócić uwagę na przypadki, gdy *a=0*, *b=0* lub *c=0*,a także zaproponować sposób informowania użytkownika o nieskończonej liczbie lub braku rozwiązań.\n",
        "2. Napisz klasę *Zespolona*, która będzie przechowywać liczby zespolone: *a+bi*. Niech część rzeczywista nazywa się *re*, a urojona *im*. Poza tymi dwoma polami zdefiniuj metody:\n",
        "- *modul()*, która będzie obliczać moduł liczby zespolonej *a+bi*: $\\sqrt{a^2++b^2}$;\n",
        "- *dodaj(), mnoz()*, które mają być metodami statycznymi i obliczać, odpowiednio, sumę i iloczyn dwóch liczb zespolonych.\n",
        "3. Utwórz w języku Python nową klasę, na przykład *Kot*. Do nowo utworzonej klasy dodaj metodę *set_name*, która oprócz *self* przyjmie jeden dodatkowy parametr, na przykład imię kota, który będzie przypisany do obiektu. Dodaj również metodę *get_name* , która zwraca ustawione wcześniej imię.<br>\n",
        "Podczas wykonywania programu powinien zostać wyświetlony tekst: „Mój kot nazywa się ....\"\n",
        "4. Utwórz w języku Python nową klasę, na przykład *Rower*. Do nowo utworzonej klasy dodaj dowolne metody (na przykład *set_vMax*) i pola (na przykład *kolor*). Podczas wykonywania programu powinien zostać wyświetlony tekst dotyczący instancji tej klasy. W kodzie należy zastosować konstruktor i destruktor."
      ],
      "metadata": {
        "id": "HbWakJFHX-3W"
      }
    },
    {
      "cell_type": "code",
      "source": [],
      "metadata": {
        "id": "44kUaDdYUEdx"
      },
      "execution_count": null,
      "outputs": []
    }
  ]
}