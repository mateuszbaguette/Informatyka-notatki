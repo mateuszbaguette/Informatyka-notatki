{
 "cells": [
  {
   "cell_type": "markdown",
   "metadata": {
    "id": "2AQlBygavglc"
   },
   "source": [
    "## Znajdowanie w ciągu podciągów o różnych własnościach\n",
    "\n",
    "1. Tworzymy algorytm,który będzie odnajdywał w większym zbiorze podzbiór danych spełniających określone warunki. \n",
    "2. Przykład - wyniki na podstawie pomiarów:<br>\n",
    "- ciąg liczb 133, 131, 132, 135, 137, 134\n",
    "- w przypadku tego ciągu jeden z podciągów tworzą liczby 133, 132, 135, 137.  - - nie wszystkie te elementy jednak leżą obok siebie w ciągu wyjściowym: element 132 od elementu 133 w ciągu wyjściowym oddziela element 131\n",
    "- mówimy, że podciąg składający się z liczb 133, 132, 135, 137 nie jest podciągiem spójnym ciągu liczb 133, 131, 132, 135, 137, 134\n",
    "3. **Podciągiem spójnym** nazywamy podciąg, którego elementy w ciągu wyjściowym występują obok siebie.<br>\n",
    "- z powyższej definicji wynika, że liczby 131, 132, 135 są podciągiem spójnym ciągu 133, 131, 132, 135, 137, 134.\n",
    "4. **Szukanie podciągu niemalejącego lub nierosnącego** - poza podciągiem spójnym w ciągach można wyszukiwać także podciągi niemalejące lub\n",
    "nierosnące. W przypadku podciągów niemalejących każdy kolejny element podciągu jest nie mniejszy (czyli większy bądź równy) od poprzedniego elementu. Z kolei podciągi niemalejące charakteryzują się tym, że każdy kolejny element podciągu jest nie większy (czyli mniejszy bądź równy) od poprzedniego elementu.\n",
    "5. Przykład:<br>\n",
    "- dany jest ciąg liczb: 324, 453, 674, 543, 125, 234, 112.\n",
    "- podciągami nierosnącymi będą:\n",
    "  - 324, 125, 112\n",
    "  - 324, 234, 112\n",
    "  - 453, 125, 112\n",
    "  - 453, 234, 112\n",
    "  - 674, 543, 125, 112\n",
    "  - 674, 543, 234, 112\n",
    "  - 674, 543, 125\n",
    "  - 674, 125, 112\n",
    "  - 674, 234, 112\n",
    "  - 674, 534, 125\n",
    "  - 674, 543, 234\n",
    "  - 674, 534, 125\n",
    "  - 543, 125, 112\n",
    "  - 543, 234, 112\n",
    "  - 125, 112\n",
    "  - 234, 112<br>\n",
    "  http://pgmys.edu.pl/lo_sp/lekcje1/p18.php\n",
    "\n",
    "6. Najdłuższy spójny ciąg rosnący - to ciąg powstały przez wybranie pewnej liczby elementów ciągu wejściowego - w tym przypadku ma to być ciąg rosnący, a zatem taki, w którym każdy kolejny element jest większy od poprzedniego. Najdłuższy podciąg oznacza oczywiście, że z danego ciągu nie można wyodrębnić dłuższych podciągów. Z kolei spójnym nazywamy podciąg, którego elementy w ciągu wyjściowym sąsiadują ze sobą."
   ]
  },
  {
   "cell_type": "code",
   "execution_count": null,
   "metadata": {
    "id": "zALn0Qkqvf_S"
   },
   "outputs": [],
   "source": [
    "\n",
    "#include <iostream>\n",
    "#define MAX_LICZBA_ELEMENTOW 1000000\n",
    "\n",
    "using namespace std;\n",
    "\n",
    "int main(){\n",
    "int n_elementow,max_dlugosc = 1,poczatek,dlugosc = 1,biezacy_element_p = 0,idx;\n",
    "int tab[MAX_LICZBA_ELEMENTOW];\n",
    "cin >> n_elementow;\n",
    "cin >> tab[0];\n",
    "poczatek = biezacy_element_p = 0;\n",
    "\n",
    "for (idx = 1; idx < n_elementow; idx++){\n",
    "  cin >> tab[idx];\n",
    "  if (tab[idx] > tab[idx - 1]){\n",
    "    ++dlugosc;\n",
    "    if (dlugosc > max_dlugosc){\n",
    "      max_dlugosc = dlugosc;\n",
    "      poczatek = biezacy_element_p;\n",
    "    }\n",
    "  }else{\n",
    "    biezacy_element_p = idx;\n",
    "    dlugosc=1;\n",
    "  }\n",
    " }   \n",
    " \n",
    " for(idx=poczatek; idx < poczatek + max_dlugosc; idx++){\n",
    "    cout<<tab[idx] << \" \";     \n",
    " }\n",
    "\n",
    " return 0;\n",
    "}"
   ]
  },
  {
   "cell_type": "code",
   "execution_count": null,
   "metadata": {
    "colab": {
     "base_uri": "https://localhost:8080/"
    },
    "id": "fy9l7DzH_2Fv",
    "outputId": "ed1dfa18-7eb7-4628-c92d-930293a47e3e"
   },
   "outputs": [
    {
     "name": "stdout",
     "output_type": "stream",
     "text": [
      "Overwriting ciag.cpp\n"
     ]
    }
   ],
   "source": [
    "%%writefile ciag.cpp\n",
    "#include <iostream>\n",
    "#define MAX_LICZBA_ELEMENTOW 1000000\n",
    "\n",
    "using namespace std;\n",
    "\n",
    "int main(){\n",
    "int n_elementow,max_dlugosc = 1,poczatek,dlugosc = 1,biezacy_element_p = 0,idx;\n",
    "int tab[MAX_LICZBA_ELEMENTOW];\n",
    "cin >> n_elementow;\n",
    "cin >> tab[0];\n",
    "poczatek = biezacy_element_p = 0;\n",
    "\n",
    "for (idx = 1; idx < n_elementow; idx++){\n",
    "  cin >> tab[idx];\n",
    "  if (tab[idx] > tab[idx - 1]){\n",
    "    ++dlugosc;\n",
    "    if (dlugosc > max_dlugosc){\n",
    "      max_dlugosc = dlugosc;\n",
    "      poczatek = biezacy_element_p;\n",
    "    }\n",
    "  }else{\n",
    "    biezacy_element_p = idx;\n",
    "    dlugosc=1;\n",
    "  }\n",
    " }   \n",
    " \n",
    " for(idx=poczatek; idx < poczatek + max_dlugosc; idx++){\n",
    "    cout<<tab[idx] << \" \";     \n",
    " }\n",
    "\n",
    " return 0;\n",
    "}"
   ]
  },
  {
   "cell_type": "code",
   "execution_count": null,
   "metadata": {
    "colab": {
     "base_uri": "https://localhost:8080/"
    },
    "id": "-pDZccaf_8SV",
    "outputId": "0059abd1-2ae1-4f5a-f780-a853c2abbc91"
   },
   "outputs": [
    {
     "name": "stdout",
     "output_type": "stream",
     "text": [
      "5\n",
      "1\n",
      "234\n",
      "43\n",
      "23\n",
      "54\n",
      "1 234 "
     ]
    },
    {
     "data": {
      "text/plain": []
     },
     "execution_count": 6,
     "metadata": {},
     "output_type": "execute_result"
    }
   ],
   "source": [
    "%%shell \n",
    "g++ ciag.cpp -o ciag\n",
    "./ciag"
   ]
  }
 ],
 "metadata": {
  "colab": {
   "provenance": []
  },
  "kernelspec": {
   "name": "python3",
   "display_name": "Python 3"
  },
  "language_info": {
   "name": "python"
  }
 },
 "nbformat": 4,
 "nbformat_minor": 0
}
