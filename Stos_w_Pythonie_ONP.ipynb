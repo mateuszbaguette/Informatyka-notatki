{
 "cells": [
  {
   "cell_type": "markdown",
   "metadata": {
    "id": "2v17-2yADIW6"
   },
   "source": [
    "#T: Realizacja stosu w Pythonie oraz ONP.<br>\n",
    "Do emulacji działania stosu w Pythonie wykorzystamy listę i dwie jej metody: **append()** oraz  **pop()**."
   ]
  },
  {
   "cell_type": "code",
   "execution_count": 2,
   "metadata": {
    "colab": {
     "base_uri": "https://localhost:8080/"
    },
    "id": "ZwFjsAMjDbsb",
    "executionInfo": {
     "status": "ok",
     "timestamp": 1.707938313966E12,
     "user_tz": -60.0,
     "elapsed": 336.0,
     "user": {
      "displayName": "Michał Capiński",
      "userId": "02452716182650698495"
     }
    },
    "outputId": "faa3a0e3-969d-4b2c-8400-654be67e36b5"
   },
   "outputs": [
    {
     "name": "stdout",
     "output_type": "stream",
     "text": [
      "Na stosie sa 3 elementy\n"
     ]
    }
   ],
   "source": [
    "stos = [] # tworzymy listę\n",
    "\n",
    "stos.append(1) # metoda append() działa identycznie jak opisywany push()\n",
    "stos.append(2)\n",
    "stos.append(3)\n",
    "\n",
    "# w tym momencie na stosie są 3 elementy\n",
    "print (\"Na stosie sa \" + str(len(stos)) + \" elementy\")\n",
    "\n",
    "x = stos.pop() # zdejmujemy przed chwilą dodane elementy ze stosu\n",
    "y = stos.pop()\n",
    "z = stos.pop()"
   ]
  },
  {
   "cell_type": "markdown",
   "metadata": {
    "id": "A1uxJu9CEFyy"
   },
   "source": [
    "### Realizacja ONP w Pythonie<br>\n",
    "https://www.algorytm.edu.pl/algorytmy-w-python/odwrotna-notacja-polska-python<br>"
   ]
  },
  {
   "cell_type": "code",
   "execution_count": 3,
   "metadata": {
    "colab": {
     "base_uri": "https://localhost:8080/"
    },
    "id": "3YNbxvzyDjsC",
    "executionInfo": {
     "status": "ok",
     "timestamp": 1.707938510155E12,
     "user_tz": -60.0,
     "elapsed": 19764.0,
     "user": {
      "displayName": "Michał Capiński",
      "userId": "02452716182650698495"
     }
    },
    "outputId": "b05098cd-302c-44e3-c494-783e89417aea"
   },
   "outputs": [
    {
     "name": "stdout",
     "output_type": "stream",
     "text": [
      "5 6 8 4 * + / 2 +\n",
      "2\n"
     ]
    }
   ],
   "source": [
    "#*****************www.algorytm.edu.pl****************\n",
    "lista = input().split()\n",
    "stack = [] # strukturę stosu zaimplementujemy na liście\n",
    "for i in lista:\n",
    "    if i.isdigit(): #spawdzam, czy wyrażenie jest liczbą\n",
    "        n = int(i)\n",
    "        stack.append(n) # jeśli wczytany element jest liczbą, to wrzuć go na stos\n",
    "    else:\n",
    "        b = stack.pop() # jeśli wczytany element jest operatorem, to zdejmij ze stosu dwie liczby a i b\n",
    "        a = stack.pop()\n",
    "        if i == '*':\n",
    "            stack.append(a*b) # wynik działania wrzuć na stos\n",
    "        elif i == '-':\n",
    "            stack.append(a-b) # wynik działania wrzuć na stos\n",
    "        elif i == '+':\n",
    "            stack.append(a+b) # wynik działania wrzuć na stos\n",
    "        else:\n",
    "            stack.append(a//b) # wynik działania wrzuć na stos\n",
    "print(stack.pop()) # wypisz ostatni i jedyny element znajdujący się na stosie"
   ]
  },
  {
   "cell_type": "code",
   "execution_count": null,
   "metadata": {
    "id": "ywdRZBeIEXLL"
   },
   "outputs": [],
   "source": []
  }
 ],
 "metadata": {
  "colab": {
   "provenance": [],
   "authorship_tag": "ABX9TyMg2F1owyDYnrIAJml9J+Bt"
  },
  "kernelspec": {
   "name": "python3",
   "display_name": "Python 3"
  },
  "language_info": {
   "name": "python"
  }
 },
 "nbformat": 4,
 "nbformat_minor": 0
}
