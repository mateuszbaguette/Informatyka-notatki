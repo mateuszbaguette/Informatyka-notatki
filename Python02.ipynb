{
 "cells": [
  {
   "cell_type": "markdown",
   "id": "0099dab8-8f7f-4d31-860f-f6fc8b76644a",
   "metadata": {},
   "source": [
    "# T2: Python - instrukcje iteracyjne"
   ]
  },
  {
   "cell_type": "markdown",
   "id": "c2195677-79e5-4f58-a9f3-b9e9c997d512",
   "metadata": {},
   "source": [
    "1. Instrukcje iteracyjne - w jezyku Python mamy dostep do dwóch instrukcji: **for** i **while**,ponadto istnieje możliwość szybkiego generowania ciagów liczbowych za pomocą funkcji wbudowanej **range()**, która pobiera trzy argumenty.<br>\n",
    "- pierwszy - początek sekwencji \n",
    "- drugi - koniec sekwencji, ale funkcja **nigdy nie zawiera liczby, która stanowi koniec sekwencji**\n",
    "- krok sekwencji.\n",
    "| Konstrukcja języka | Opis|\n",
    "|--------------------|-----|\n",
    "||sekwencje liczb — szybkie generowanie ciągu liczbowego|\n",
    "||wyniki:|\n",
    "|**range(10)** | (0,1,2,3,4,5,6,7,8,9)|\n",
    "|**range(1, 10)**|(1,2,3,4,5,6,7,8,9)|\n",
    "|**range(3, 10)**|(3,4,5,6,7,8,9)|\n",
    "|**range(1, 10, 2)**| (1,3,5,7,9)|\n",
    "|**range(9, 0, -1)**|(9,8,7,6,5,4,3,2,1)|\n",
    "|----------------------|--------------------------------------|\n",
    "|**for i in range(5):**| pętla for, która powtórzy się 5 razy,|\n",
    "|&emsp;&emsp;**instrukcje** |dla i = 0,1,2,3,4|\n",
    "|-----------------------|-----------------------|\n",
    "|**for x in range(10):**| przykładowa pętla for,|\n",
    "|&emsp;&emsp;<b>print(x,\"\\**2=\",x\\**2)</b> | wyniki:|\n",
    "||0\\**2=0  &emsp;5\\**2=25|\n",
    "||1\\**2=1  &emsp;6\\**2=36|\n",
    "||2\\**2=4  &emsp;7\\**2=49|\n",
    "||3\\**2=9  &emsp;8\\**2=64|\n",
    "||4\\**2=16 &emsp;9\\**2=81|\n",
    "|-----------------------|--------------------------|\n",
    "|**while w: instrukcja**| pętle while|\n",
    "|-----------------------|--------------------------|\n",
    "|**while w: instrukcja**||\n",
    "|**else: instrukcja**||\n",
    "|-----------------------|--------------------------|\n",
    "|**a=7** |przykładowa pętla while,|\n",
    "|**while a:**| wyniki:|\n",
    "|&emsp;&emsp;**a-=1**| 6|\n",
    "|&emsp;&emsp;**print(a)**| 5|\n",
    "|**else:** |4|\n",
    "|&emsp;&emsp;**print(\"koniec\")**| 3|\n",
    "||2|\n",
    "||1|\n",
    "||0|\n",
    "||koniec|"
   ]
  },
  {
   "cell_type": "code",
   "execution_count": null,
   "id": "e98745ae-349b-45ab-9721-c34c1d77981e",
   "metadata": {},
   "outputs": [],
   "source": [
    "for x in range(10):\n",
    "    print(x, \"** 2 =\", x ** 2)"
   ]
  },
  {
   "cell_type": "code",
   "execution_count": 1,
   "id": "71d90f6b-4e55-4a10-a7b8-a0e617792fc2",
   "metadata": {},
   "outputs": [
    {
     "name": "stdout",
     "output_type": "stream",
     "text": [
      "6\n",
      "5\n",
      "4\n",
      "3\n",
      "2\n",
      "1\n",
      "0\n",
      "koniec\n"
     ]
    }
   ],
   "source": [
    "a = 7\n",
    "while a:\n",
    "    a -= 1\n",
    "    print(a)\n",
    "else:\n",
    "    print(\"koniec\")"
   ]
  },
  {
   "cell_type": "code",
   "execution_count": null,
   "id": "53d236c4-7615-4096-9143-dcdb36b94c2a",
   "metadata": {},
   "outputs": [],
   "source": [
    "def funkcja():\n",
    "    a = 7\n",
    "    while a:\n",
    "        a -= 1\n",
    "        print(a)\n",
    "    else:\n",
    "        print(\"koniec\")\n",
    "\n",
    "funkcja()"
   ]
  },
  {
   "cell_type": "code",
   "execution_count": null,
   "id": "77c3e235-a29a-4b45-abad-ca7ea3b6b789",
   "metadata": {},
   "outputs": [],
   "source": [
    "def zad_a():\n",
    "    for k in range(6, 22, 3):\n",
    "        print(k)\n",
    "    print()\n",
    "    for k in range(21, 3, -3):\n",
    "        print(k)\n",
    "\n",
    "zad_a()"
   ]
  },
  {
   "cell_type": "code",
   "execution_count": null,
   "id": "9adfec9c-0d40-4186-aaad-fad63e694725",
   "metadata": {},
   "outputs": [],
   "source": [
    "def zad_b():\n",
    "    for k in range(19, 7, -1):\n",
    "        if k % 5 != 0:\n",
    "            print(k)\n",
    "    \n",
    "zad_b()"
   ]
  },
  {
   "cell_type": "code",
   "execution_count": null,
   "id": "dcce04dd-6ed4-4137-b1ad-d0a1de82bbd3",
   "metadata": {},
   "outputs": [],
   "source": [
    "def zad_c(n):\n",
    "    k = 2\n",
    "    for i in range(n):\n",
    "    # for i in range(1, n + 1, 1):\n",
    "        print(k)\n",
    "        k *= 3\n",
    "    \n",
    "zad_c(5)"
   ]
  },
  {
   "cell_type": "code",
   "execution_count": null,
   "id": "f4022f90-f734-47c6-8293-ec704813e314",
   "metadata": {},
   "outputs": [],
   "source": [
    "def zad_d(n):\n",
    "    k = -4\n",
    "    s = 0\n",
    "    for i in range(n):\n",
    "    #for i in range(1, n + 1, 1):\n",
    "        s += k\n",
    "        k += 5\n",
    "    return s    \n",
    "    \n",
    "print(zad_d(4))"
   ]
  },
  {
   "cell_type": "code",
   "execution_count": null,
   "id": "180ef5d2-a980-4780-ae33-f3fc0d8d0058",
   "metadata": {},
   "outputs": [],
   "source": [
    "def zad_e(n):\n",
    "    k = -1\n",
    "    s = 1\n",
    "    for i in range(n):\n",
    "    #for i in range(1, n + 1, 1):\n",
    "        s *= k\n",
    "        k *= -2\n",
    "    return s    \n",
    "    \n",
    "print(zad_e(3))\n"
   ]
  },
  {
   "cell_type": "code",
   "execution_count": null,
   "id": "48e7f6dc-503a-4edd-8740-6ab198a62014",
   "metadata": {},
   "outputs": [],
   "source": [
    "# badanie, czy liczba jest pierwsza\n",
    "\n",
    "from math import *\n",
    "\n",
    "def liczba_pierwsza1(n):\n",
    "    pom = int(sqrt(n))\n",
    "    for i in range(2, pom + 1):\n",
    "        if n % i == 0:\n",
    "            return False\n",
    "    return True\n",
    "\n",
    "def liczba_pierwsza2(n):\n",
    "    pom = int(sqrt(n))\n",
    "    i = 2\n",
    "    while i <= pom:\n",
    "        if n % i == 0:\n",
    "            return False\n",
    "        i += 1\n",
    "    return True\n",
    "                    \n",
    "print(liczba_pierwsza1(61))\n",
    "print(liczba_pierwsza2(105)) "
   ]
  },
  {
   "cell_type": "code",
   "execution_count": null,
   "id": "bd1a6554-c0a9-4154-bb3e-f908058b820d",
   "metadata": {},
   "outputs": [],
   "source": [
    "# znajdowanie elementu minimalnego\n",
    "\n",
    "def minimum(n):\n",
    "    k = float(input(\"podaj liczbę: \"))\n",
    "    min = k\n",
    "    while n > 1:\n",
    "        k = float(input(\"podaj liczbę: \"))\n",
    "        if k < min:\n",
    "            min = k\n",
    "        n -= 1\n",
    "    return min    \n",
    "\n",
    "print(minimum(5))"
   ]
  },
  {
   "cell_type": "markdown",
   "id": "20f4d498-b38f-45b4-9da8-cb63050e4ee5",
   "metadata": {},
   "source": [
    "## Ćwiczenia\n",
    "1. Napisz programy realizujace wypisywanie podanych ciągów liczb całkowitych:<br>\n",
    "a) 7-elementowego ciągu liczb całkowitych postaci (-4; -1; 2; 5; 8; 11; 14);<br>\n",
    "b) 5-elementowego ciągu liczb całkowitych postaci (-4; -1; 5; 11; 14);<br>\n",
    "c) 7-elementowego ciągu liczb całkowitych postaci (12; 8; 4; 0; -4; -8; -12);<br>\n",
    "d) 6-elementowego ciągu liczb całkowitych postaci (12; 8; 4; -4; -8; -12).<br>\n",
    "2. Napisz programy obliczające wartości podanych wyrażeń (dla wszystkich przykładów n jest liczbą naturalną większą od 0):<br>\n",
    "a) $\\frac{2 \\cdot n}{1+2+3+...+n}$ <br>\n",
    "b) $ \\displaystyle \\sum_{i=1}^{n} \\frac{1}{2\\cdot i}=\\frac{1}{2\\cdot 1}+\\frac{1}{2\\cdot 2}+\\frac{1}{2\\cdot 3}+...+\\frac{1}{2\\cdot n} $ <br>\n",
    "c) $ \\displaystyle \\prod_{i=1}^{n}\\frac{i+3}{n}=\\frac{1+3}{n} \\cdot \\frac{2+3}{n} \\cdot \\frac{3+3}{n}+...+\\frac{n+3}{n} $ <br>\n",
    "d) suma n-elementowego ciągu postaci: $\\frac{2 \\cdot 3}{1}+\\frac{2 \\cdot 6}{2}+\\frac{2 \\cdot 12}{3}+\\frac{2 \\cdot 24}{4}+...$\n",
    "3. Napisz programy obliczające wartości podanych wyrażeń (we wszystkich przykładach ciągi są n-elementowe, n jest liczba naturalną większą od 0):<br>\n",
    "a) $-2+5-8+11-14+...$<br>\n",
    "b) $4 \\cdot(-8)\\cdot12\\cdot(-16) \\cdot 20\\cdot...$<br>\n",
    "c) $1!+2!+3!+...+n!$<br>\n",
    "d) $\\frac{1+2+3+...+n}{2 \\cdot 6 \\cdot 10 \\cdot 14 \\cdot 18 \\cdot ...}$<br>\n",
    "e) $\\frac{2 \\cdot 2,5 \\cdot 3 \\cdot 3,5 \\cdot 4 \\cdot ...}{-3 \\cdot (-0,3) \\cdot (-0,03) \\cdot (-0,003) \\cdot ...}$<br>\n",
    "f) $\\frac{1!-2!+3!-4!+5!+...}{-0,2+0,1+0,4+0,7+1+...}$<br>\n",
    "g) $\\frac{-2+7-12+17-22+...}{3 \\cdot (-7) \\cdot 11 \\cdot (-15) \\cdot 19 ...}$<br>"
   ]
  }
 ],
 "metadata": {
  "kernelspec": {
   "display_name": "Python 3 (ipykernel)",
   "language": "python",
   "name": "python3"
  },
  "language_info": {
   "codemirror_mode": {
    "name": "ipython",
    "version": 3
   },
   "file_extension": ".py",
   "mimetype": "text/x-python",
   "name": "python",
   "nbconvert_exporter": "python",
   "pygments_lexer": "ipython3",
   "version": "3.9.7"
  }
 },
 "nbformat": 4,
 "nbformat_minor": 5
}
